{
  "nbformat": 4,
  "nbformat_minor": 0,
  "metadata": {
    "colab": {
      "name": "Anomaly_detection.ipynb",
      "provenance": [],
      "collapsed_sections": [
        "FwaAI06Ev9zt",
        "WqYuhEM_mpP2",
        "Nka5ZeSzTxrB",
        "JpD8fG8DTxrH"
      ],
      "machine_shape": "hm"
    },
    "kernelspec": {
      "display_name": "Python 3",
      "language": "python",
      "name": "python3"
    },
    "language_info": {
      "codemirror_mode": {
        "name": "ipython",
        "version": 3
      },
      "file_extension": ".py",
      "mimetype": "text/x-python",
      "name": "python",
      "nbconvert_exporter": "python",
      "pygments_lexer": "ipython3",
      "version": "3.7.1"
    },
    "accelerator": "GPU"
  },
  "cells": [
    {
      "cell_type": "markdown",
      "metadata": {
        "id": "t2hGCplrTxqd"
      },
      "source": [
        "# ANOMALY DETECTION"
      ]
    },
    {
      "cell_type": "code",
      "metadata": {
        "id": "VZScT_vlTxqg"
      },
      "source": [
        "import glob\n",
        "import os\n",
        "import numpy as np\n",
        "import pandas as pd\n",
        "import matplotlib.pyplot as plt\n",
        "from PIL import Image\n",
        "import keras\n",
        "from keras.layers import Conv2DTranspose, ConvLSTM2D, BatchNormalization, TimeDistributed, Conv2D, LayerNormalization\n",
        "from keras.models import Sequential, load_model\n",
        "from scipy import signal\n",
        "\n",
        "from sklearn.metrics import confusion_matrix \n",
        "from sklearn.metrics import accuracy_score \n",
        "from sklearn.metrics import classification_report\n",
        "\n",
        "import cv2\n",
        "import imutils\n"
      ],
      "execution_count": null,
      "outputs": []
    },
    {
      "cell_type": "code",
      "metadata": {
        "id": "8NyfGkz2Txqi"
      },
      "source": [
        "import imageio\n",
        "\n",
        "def plot_for_offset(im, reconstructed_im, gt_frames, anomalies):\n",
        "    # Data for plotting\n",
        "    \n",
        "    fig, (ax0, ax1, ax2,ax3) = plt.subplots(ncols=4,figsize=(10,10))\n",
        "    \n",
        "    \n",
        "    ax0.set_title('input image')\n",
        "    ax1.set_title('reconstructed image')\n",
        "    ax2.set_title('ground truth ')\n",
        "    ax3.set_title('anomalies')\n",
        "    #im = im*255.0\n",
        "    ax0.imshow(im)\n",
        "    ax1.imshow(reconstructed_im)\n",
        "    ax2.imshow(gt_frames)\n",
        "    ax3.imshow(anomalies)\n",
        "\n",
        "    \n",
        "    # Used to return the plot as an image rray\n",
        "    fig.canvas.draw()       # draw the canvas, cache the renderer\n",
        "    image = np.frombuffer(fig.canvas.tostring_rgb(), dtype='uint8')\n",
        "    image  = image.reshape(fig.canvas.get_width_height()[::-1] + (3,))\n",
        "\n",
        "    return image"
      ],
      "execution_count": null,
      "outputs": []
    },
    {
      "cell_type": "code",
      "metadata": {
        "id": "-qvkZLujTxqj"
      },
      "source": [
        "DATASET_PATH1 =\"/content/drive/MyDrive/UCSD_Anomaly_Dataset.v1p2/UCSDped1/Train\"\n",
        "DATASET_PATH2 =\"/content/drive/MyDrive/UCSD_Anomaly_Dataset.v1p2/UCSDped2/Train\"\n",
        "\n",
        "TEST_PATH1 =\"/content/drive/MyDrive/UCSD_Anomaly_Dataset.v1p2/UCSDped1/Test\" \n",
        "TEST_PATH2 =\"/content/drive/MyDrive/UCSD_Anomaly_Dataset.v1p2/UCSDped2/Test\" \n",
        "\n",
        "MODEL_PATH = '/content/drive/MyDrive/model/model_lstm_1datasets_diff_arch_256_nomax3.hdf5'"
      ],
      "execution_count": null,
      "outputs": []
    },
    {
      "cell_type": "code",
      "metadata": {
        "id": "DU4N1dJ6Txqk"
      },
      "source": [
        "BATCH_SIZE=2\n",
        "EPOCHS=3\n",
        "IMAGE_SIZE = (256,256)\n",
        "LENGTH_SEQUENCE = 10"
      ],
      "execution_count": null,
      "outputs": []
    },
    {
      "cell_type": "code",
      "metadata": {
        "id": "Abzx3ft-Txql"
      },
      "source": [
        "def make_sequences(frames):\n",
        "    sz = int(frames.shape[0]/LENGTH_SEQUENCE) \n",
        "    sequences = np.zeros((sz,LENGTH_SEQUENCE , IMAGE_SIZE[0],IMAGE_SIZE[1], 3)) \n",
        "    counter = 0\n",
        "    for i in range(0, sz):\n",
        "        clip = np.zeros((LENGTH_SEQUENCE, IMAGE_SIZE[0],IMAGE_SIZE[1], 3))\n",
        "        for j in range(0, LENGTH_SEQUENCE): \n",
        "            clip[j] = frames[counter, :, :, :]\n",
        "            counter+=1\n",
        "        sequences[i] = clip\n",
        "    return(sequences)"
      ],
      "execution_count": null,
      "outputs": []
    },
    {
      "cell_type": "code",
      "metadata": {
        "id": "Y9dbSFiHTxqm"
      },
      "source": [
        "def make_sequence_train(list_frames, length_sequence ):\n",
        "    row = 0\n",
        "    len_train_files = list_frames.shape[0]\n",
        "    len_frames = list_frames.shape[1]\n",
        "    number_seq = int(len_frames/length_sequence)*len_train_files\n",
        "    seq = np.zeros((number_seq, length_sequence,IMAGE_SIZE[0],IMAGE_SIZE[1],1))\n",
        "    for i in range(len_train_files):\n",
        "        for j in range(0,len_frames,length_sequence):\n",
        "            for k in range(length_sequence):\n",
        "                seq[row,k,:,:,0] = list_frames[i,k+j,:,:,0]\n",
        "            row+=1\n",
        "    return(seq)"
      ],
      "execution_count": null,
      "outputs": []
    },
    {
      "cell_type": "code",
      "metadata": {
        "id": "NfWT8i1XTxqn"
      },
      "source": [
        "def get_training_set(DATASET_PATH): \n",
        "    files = sorted(glob.glob(DATASET_PATH1+'/*'))\n",
        "    train_set = np.zeros((len(files),200,IMAGE_SIZE[0],IMAGE_SIZE[1],1))\n",
        "    for idx, filename in enumerate(files):\n",
        "        train_files = sorted(glob.glob(filename+'/*'))\n",
        "        for idx_frame,file_frame in enumerate(train_files):\n",
        "            im = Image.open(file_frame)\n",
        "            im = im.resize((IMAGE_SIZE[0],IMAGE_SIZE[1])) \n",
        "            train_set[idx,idx_frame,:,:,0] = np.array(im, dtype=np.float32)/255.0\n",
        "            \n",
        "    seq = make_sequence_train(train_set,LENGTH_SEQUENCE) \n",
        "    return(seq)"
      ],
      "execution_count": null,
      "outputs": []
    },
    {
      "cell_type": "code",
      "metadata": {
        "id": "qeLu6ioLTxqo"
      },
      "source": [
        "def get_single_test(number):\n",
        "    files = sorted(glob.glob(TEST_PATH1+'/Test'+str(number).zfill(3)+'/*'))\n",
        "\n",
        "    test_frames = np.zeros((len(files),IMAGE_SIZE[0],IMAGE_SIZE[1],1))\n",
        "\n",
        "    for idx,filename in enumerate(files):\n",
        "        im = cv2.imread(filename)\n",
        "        im = cv2.resize(im,(IMAGE_SIZE[0],IMAGE_SIZE[1]) )\n",
        "        \n",
        "        test_frames[idx,:,:,0] = np.array(im[:,:,0], dtype=np.float32)/255.0\n",
        "    return(test_frames)"
      ],
      "execution_count": null,
      "outputs": []
    },
    {
      "cell_type": "code",
      "metadata": {
        "id": "yIxywDtqTxqp"
      },
      "source": [
        "def get_single_test_MD(number):\n",
        "    files = sorted(glob.glob(TEST_PATH1+'/Test'+str(number).zfill(3)+'/*'))\n",
        "\n",
        "    test_frames = np.zeros((len(files),IMAGE_SIZE[0],IMAGE_SIZE[1],3))\n",
        "\n",
        "    for idx,filename in enumerate(files):\n",
        "        im = cv2.imread(filename)\n",
        "        im = cv2.resize(im,(256,256) )\n",
        "        \n",
        "        test_frames[idx,:,:,:] = np.array(im, dtype=np.uint8)/255.0\n",
        "    return(test_frames)"
      ],
      "execution_count": null,
      "outputs": []
    },
    {
      "cell_type": "code",
      "metadata": {
        "id": "WHVrlvTSTxqq"
      },
      "source": [
        "def get_ground_truth(number):\n",
        "    \n",
        "    files = sorted(glob.glob(TEST_PATH1+'/Test'+str(number).zfill(3)+'_gt/*'))\n",
        "\n",
        "    test_gt_frames = np.zeros((len(files),IMAGE_SIZE[0],IMAGE_SIZE[1],1))\n",
        "\n",
        "    for idx,filename in enumerate(files):\n",
        "        im = Image.open(filename)\n",
        "        im = im.resize((IMAGE_SIZE[0],IMAGE_SIZE[1]))\n",
        "        test_gt_frames[idx,:,:,0] = np.array(im, dtype=np.float32)/255.0\n",
        "    return(test_gt_frames)"
      ],
      "execution_count": null,
      "outputs": []
    },
    {
      "cell_type": "code",
      "metadata": {
        "id": "lLcxExMPTxqq"
      },
      "source": [
        "def get_ground_truth_MD(number):\n",
        "    \n",
        "    files = sorted(glob.glob(TEST_PATH1+'/Test'+str(number).zfill(3)+'_gt/*'))\n",
        "    test_gt_frames = []\n",
        "    for idx,filename in enumerate(files):\n",
        "        im = cv2.imread(filename)\n",
        "        im = cv2.resize(im,(500,500))\n",
        "        test_gt_frames.append(im)\n",
        "    return(test_gt_frames)"
      ],
      "execution_count": null,
      "outputs": []
    },
    {
      "cell_type": "code",
      "metadata": {
        "id": "y6ps2kaKTxqr"
      },
      "source": [
        "def get_model(reload_model=True):\n",
        "    \n",
        "    if not reload_model:\n",
        "        return load_model(MODEL_PATH,custom_objects={'LayerNormalization': LayerNormalization})\n",
        "    training_set = get_training_set()\n",
        "    training_set = np.array(training_set)\n",
        "    seq = Sequential()\n",
        "    seq.add(TimeDistributed(Conv2D(320, (10, 10), strides=2, padding=\"same\"), batch_input_shape=(None, LENGTH_SEQUENCE, IMAGE_SIZE[0],IMAGE_SIZE[1], 1))) #40 sequence\n",
        "    seq.add(LayerNormalization())\n",
        "    \n",
        "    seq.add(TimeDistributed(Conv2D(128, (5,5), strides=2, padding=\"same\")))\n",
        "    seq.add(LayerNormalization())\n",
        "    \n",
        "    seq.add(TimeDistributed(Conv2D(64, (5,5), strides=2, padding=\"same\")))\n",
        "    seq.add(LayerNormalization())\n",
        "    \n",
        "    \n",
        "    \n",
        "    seq.add(ConvLSTM2D(64, (3, 3), padding=\"same\", return_sequences=True))\n",
        "    seq.add(LayerNormalization())\n",
        "    \n",
        "    seq.add(ConvLSTM2D(32, (3, 3), padding=\"same\", return_sequences=True))\n",
        "    seq.add(LayerNormalization())\n",
        "    \n",
        "    seq.add(ConvLSTM2D(32, (3, 3), padding=\"same\", return_sequences=True))\n",
        "    seq.add(LayerNormalization())\n",
        "    \n",
        "    seq.add(ConvLSTM2D(64, (3, 3), padding=\"same\", return_sequences=True)) \n",
        "    seq.add(LayerNormalization())\n",
        "    \n",
        "   \n",
        "    seq.add(TimeDistributed(Conv2DTranspose(64, (5, 5), strides=2, padding=\"same\")))\n",
        "    seq.add(LayerNormalization())\n",
        "    \n",
        "    seq.add(TimeDistributed(Conv2DTranspose(128, (5, 5), strides=2, padding=\"same\")))\n",
        "    seq.add(LayerNormalization())\n",
        "    \n",
        "    seq.add(TimeDistributed(Conv2DTranspose(320, (10, 10), strides=2, padding=\"same\")))   \n",
        "    seq.add(LayerNormalization())\n",
        "    \n",
        "    seq.add(TimeDistributed(Conv2D(1, (10,10), activation=\"sigmoid\", padding=\"same\")))\n",
        "    print(seq.summary())\n",
        "    seq.compile(loss='mse', optimizer=keras.optimizers.Adam(lr=1e-4, decay=1e-5, epsilon=1e-6))\n",
        "    seq.fit(training_set, training_set,\n",
        "            batch_size=BATCH_SIZE, epochs=EPOCHS, shuffle=False)\n",
        "    seq.save(MODEL_PATH)\n",
        "    #seq.show()\n",
        "    return seq\n"
      ],
      "execution_count": null,
      "outputs": []
    },
    {
      "cell_type": "code",
      "metadata": {
        "id": "l4TS4QIJTxqs"
      },
      "source": [
        "def predict_test():\n",
        "    model = get_model(False)\n",
        "    print(\"got model\")\n",
        "    print(test.shape)\n",
        "           \n",
        "    sz = int(test.shape[0]/LENGTH_SEQUENCE) \n",
        "    sequences = np.zeros((sz,LENGTH_SEQUENCE , IMAGE_SIZE[0],IMAGE_SIZE[1], 1)) \n",
        "    counter = 0\n",
        "    for i in range(0, sz):\n",
        "        clip = np.zeros((LENGTH_SEQUENCE, IMAGE_SIZE[0],IMAGE_SIZE[1], 1))\n",
        "        for j in range(0, LENGTH_SEQUENCE): \n",
        "            clip[j] = test[counter, :, :, :]\n",
        "            counter+=1\n",
        "        sequences[i] = clip\n",
        "\n",
        "    print(\"got data\")\n",
        "    #reconstruction cost of all the sequences\n",
        "    reconstructed_sequences = model.predict(sequences,batch_size=4)\n",
        "    sequences_reconstruction_cost = np.array([np.linalg.norm(np.subtract(sequences[i],reconstructed_sequences[i])) for i in range(0,sz)])\n",
        "    sa = (sequences_reconstruction_cost - np.min(sequences_reconstruction_cost)) / np.max(sequences_reconstruction_cost)\n",
        "    \n",
        "    plt.plot(sa)\n",
        "    plt.ylabel('anomaly score Sa(t)')\n",
        "    plt.xlabel('frame t')\n",
        "    plt.show()\n",
        "    return(reconstructed_sequences,sa)"
      ],
      "execution_count": null,
      "outputs": []
    },
    {
      "cell_type": "code",
      "metadata": {
        "id": "v0hsLyjPTxqu"
      },
      "source": [
        "def predict_gt_motionDetect(reconstructed_sequences, sa,number):\n",
        "    threshold_anomaly =np.max(sa)/2\n",
        "    #print(threshold_anomaly)\n",
        "    test_reshaped = sequences\n",
        "    frames = []\n",
        "    threshs=[]\n",
        "    framedeltas = []\n",
        "    anomalies = []\n",
        "    original_frame = []\n",
        "    firstFrame = None\n",
        "    #cols_list=[0,1]\n",
        "    #pd.read_csv('/content/drive/MyDrive/prediction/ped1/Test024/sa.csv', usecols=cols_list)\n",
        "    for i in range(reconstructed_sequences.shape[0]):\n",
        "        #print(sa.iloc[i])\n",
        "        #i['var1'].iloc[0]\n",
        "\n",
        "        # print(type(sa))\n",
        "        # print(type(sa(0)))\n",
        "        # print(type(threshold_anomaly))\n",
        "        if (sa[i]<threshold_anomaly):\n",
        "\n",
        "            #print(\"hello\")\n",
        "            text = \"Normal\"\n",
        "            for j in range(LENGTH_SEQUENCE):  \n",
        "                anomaly = np.zeros(shape=[IMAGE_SIZE[0],IMAGE_SIZE[1], 3], dtype=np.uint8)\n",
        "                thresh = np.zeros(shape=[IMAGE_SIZE[0],IMAGE_SIZE[1], 3], dtype=np.uint8)\n",
        "                frameDelta = np.zeros(shape=[IMAGE_SIZE[0],IMAGE_SIZE[1], 3], dtype=np.uint8)\n",
        "                cv2.imwrite('image.png', reconstructed_sequences[i,j,:,:,:])\n",
        "                image = cv2.imread('image.png') \n",
        "                frame_test = np.array(test_reshaped[i,j,:,:,:],dtype=np.uint8)\n",
        "                frame_predicted = np.array(image,dtype=np.uint8)      \n",
        "                frame = cv2.absdiff(frame_test,frame_predicted)\n",
        "                frame = cv2.GaussianBlur(frame, (5, 5), 0)           \n",
        "                frame = imutils.resize(frame, width=500)\n",
        "                anomaly= imutils.resize(anomaly, width=500)\n",
        "                frame_test= imutils.resize(frame_test, width=500)\n",
        "                cv2.putText(frame, \"Status: {}\".format(text), (10, 20),\n",
        "                        cv2.FONT_HERSHEY_SIMPLEX, 0.5, (255, 0, 0), 2)\n",
        "                cv2.putText(frame_test, \"Status: {}\".format(text), (10, 20),\n",
        "                        cv2.FONT_HERSHEY_SIMPLEX, 0.5, (255, 0, 0), 2)\n",
        "                frames.append(frame)\n",
        "                anomalies.append(anomaly)\n",
        "                original_frame.append(frame_test)\n",
        "                threshs.append(thresh)\n",
        "                framedeltas.append(frameDelta)\n",
        "            firstFrame = None\n",
        "        \n",
        "        else:\n",
        "            #print(\"else hello\")\n",
        "            #firstFrame = None\n",
        "            cnt=0\n",
        "            for k in range(LENGTH_SEQUENCE):\n",
        "                \n",
        "                text = \"Normal\"\n",
        "                anomaly = np.zeros(shape=[IMAGE_SIZE[0],IMAGE_SIZE[1], 3], dtype=np.uint8)\n",
        "                frame_test = np.array(test_reshaped[i,k,:,:,:],dtype=np.uint8)\n",
        "                #########################\n",
        "                cv2.imwrite('image.png', reconstructed_sequences[i,k,:,:,:])\n",
        "                            #*255)\n",
        "                image = cv2.imread('image.png')\n",
        "                ###########################\n",
        "                frame_predicted = np.array(image,dtype=np.uint8)      \n",
        "                frame = cv2.absdiff(frame_test,frame_predicted)\n",
        "                frame = cv2.GaussianBlur(frame, (5, 5), 0)           \n",
        "                frame = imutils.resize(frame, width=500)\n",
        "                anomaly= imutils.resize(anomaly, width=500)\n",
        "                frame_test= imutils.resize(frame_test, width=500)\n",
        "                \n",
        "                gray = cv2.cvtColor(frame, cv2.COLOR_BGR2GRAY)\n",
        "                gray = cv2.GaussianBlur(gray, (21, 21), 0)\n",
        "\n",
        "                if firstFrame is None:\n",
        "                    firstFrame = gray\n",
        "                \n",
        "                frameDelta = cv2.absdiff(firstFrame, gray)   \n",
        "                thresh = cv2.threshold(frameDelta, 29, 255, cv2.THRESH_BINARY)[1]\n",
        "            \n",
        "                thresh = cv2.dilate(thresh, None, iterations=2)\n",
        "                cnts = cv2.findContours(thresh.copy(), cv2.RETR_EXTERNAL,\n",
        "                        cv2.CHAIN_APPROX_SIMPLE)\n",
        "                cnts = imutils.grab_contours(cnts)\n",
        "            \n",
        "                for c in cnts:\n",
        "                    if cv2.contourArea(c) < 500:\n",
        "                        continue\n",
        "                \n",
        "                    (x, y, w, h) = cv2.boundingRect(c)\n",
        "                    cv2.rectangle(frame, (x, y), (x + w, y + h), (0, 255, 0), 2)\n",
        "                    cv2.rectangle(anomaly, (x, y), (x + w, y + h), (255, 255, 255), -1)\n",
        "                    cv2.rectangle(frame_test, (x, y), (x + w, y + h), (0, 255, 0), 2)\n",
        "                    text = \"Anomaly detected\"\n",
        "            \n",
        "            \n",
        "                cv2.putText(frame, \"Status: {}\".format(text), (10, 20),\n",
        "                        cv2.FONT_HERSHEY_SIMPLEX, 0.5, (255, 0, 0), 2)\n",
        "                cv2.putText(frame_test, \"Status: {}\".format(text), (10, 20),\n",
        "                        cv2.FONT_HERSHEY_SIMPLEX, 0.5, (255, 0, 0), 2)\n",
        "                \n",
        "                frames.append(frame)\n",
        "                threshs.append(thresh)\n",
        "                framedeltas.append(frameDelta)\n",
        "                anomalies.append(anomaly)\n",
        "                original_frame.append(frame_test)\n",
        "    \n",
        "    path = '/content/drive/MyDrive/motion_detection/Ped1/Test'+str(number).zfill(3)+'/'\n",
        "    os.makedirs(os.path.dirname(path), exist_ok=True)            \n",
        "    imageio.mimsave(path+'frames.gif', [frames[idx] for idx in range(len(frames))], fps=1)\n",
        "    imageio.mimsave(path+'frames threshs.gif', [threshs[idx] for idx in range(len(threshs))], fps=1)\n",
        "    imageio.mimsave(path+'frames deltas.gif', [framedeltas[idx] for idx in range(len(framedeltas))], fps=1)\n",
        "    imageio.mimsave(path+'gt_predicted.gif', [anomalies[idx] for idx in range(len(anomalies))], fps=1)\n",
        "    imageio.mimsave(path+'original_frame.gif', [original_frame[idx] for idx in range(len(original_frame))], fps=1)\n",
        "    return(anomalies)\n",
        "                "
      ],
      "execution_count": null,
      "outputs": []
    },
    {
      "cell_type": "code",
      "metadata": {
        "id": "duhEDQU8Txq0"
      },
      "source": [
        "def evaluate_accuracy_image_cv(number, gt_predicted):\n",
        "    Threshold_acc = 0.2\n",
        "    test_gt_frames= get_ground_truth_MD(number)\n",
        "   \n",
        "    iou_score = np.zeros((1,len(test_gt_frames)))\n",
        "    for i in range(len(test_gt_frames)):\n",
        "        frame = gt_predicted[i]\n",
        "        gt_frames = test_gt_frames[i]\n",
        "        intersection = cv2.bitwise_and(frame[:,:,0], gt_frames[:,:,0])\n",
        "        union = cv2.bitwise_or(frame[:,:,0], gt_frames[:,:,0])\n",
        "        if union.any() == False:\n",
        "            iou_score[0,i] = 1\n",
        "        else:\n",
        "            iou_score[0,i] = np.sum(intersection)/ np.sum(union)\n",
        "    accuracy = np.sum(iou_score > Threshold_acc)/ iou_score.shape[1]\n",
        "    return(iou_score, accuracy)"
      ],
      "execution_count": null,
      "outputs": []
    },
    {
      "cell_type": "code",
      "metadata": {
        "id": "wT0q7xGKTxq4"
      },
      "source": [
        "def classic_accuracy(number, gt_predicted):\n",
        "    test_gt_frames= get_ground_truth_MD(number)\n",
        "    \n",
        "    true_list_new_n=np.array(test_gt_frames)\n",
        "    pred_list_new_n=np.array(gt_predicted)\n",
        "    true_list_new_n=true_list_new_n.flatten()\n",
        "    pred_list_new_n=pred_list_new_n.flatten()\n",
        "    print(\"Confusion Matrix: \", \n",
        "      confusion_matrix(true_list_new_n, pred_list_new_n)) \n",
        "\n",
        "    print (\"Accuracy : \", \n",
        "       accuracy_score(true_list_new_n,pred_list_new_n)*100) \n",
        "\n",
        "    #print(\"Report : \", \n",
        "      #classification_report(true_list_new_n, pred_list_new_n))\n",
        "    "
      ],
      "execution_count": null,
      "outputs": []
    },
    {
      "cell_type": "code",
      "metadata": {
        "id": "hnIcEe_yTxq5"
      },
      "source": [
        "def load_predictions(reconstructed_sequences):\n",
        "    reconstructed_sequences = np.zeros((200,IMAGE_SIZE[0],IMAGE_SIZE[1],3))\n",
        "    for i in range(200):\n",
        "        reconstructed_sequences[i,:,:,:] = cv2.imread('/content/drive/MyDrive/prediction/ped1/Test'+str(number).zfill(3)+'/'+str(i+1).zfill(3)+'.png')\n",
        "      \n",
        "    sa = pd.read_csv('/content/drive/MyDrive/prediction/ped1/Test'+str(number).zfill(3)+'/sa.csv', index_col=0)\n",
        "    sa=np.array(sa)\n",
        "    sequences_pred = make_sequences(reconstructed_sequences)\n",
        "    return(sequences_pred, sa)\n"
      ],
      "execution_count": null,
      "outputs": []
    },
    {
      "cell_type": "code",
      "metadata": {
        "id": "cMn9n3OSTxq5"
      },
      "source": [
        "def saliency_image(image):\n",
        "    saliency = cv2.saliency.StaticSaliencySpectralResidual_create()\n",
        "    (success, saliencyMap) = saliency.computeSaliency(image)\n",
        "    saliencyMap = (saliencyMap * 255).astype(\"uint8\")\n",
        "    return(saliencyMap)\n",
        "def predict_gt_saliency(reconstructed_sequences, sa):\n",
        "    reshaped = np.reshape(reconstructed_sequences, ((200,IMAGE_SIZE[0],IMAGE_SIZE[1],1)))\n",
        "    \n",
        "    ground_truth_pred = []\n",
        "    threshold = 180\n",
        "    #threshold = 4*255\n",
        "    for i in range(len(reshaped)):\n",
        "        idx = int(i/10)\n",
        "        anomalie=np.zeros((IMAGE_SIZE[0],IMAGE_SIZE[1]))\n",
        "        \n",
        "        if sa[idx]<np.max(sa)/2:\n",
        "            pass\n",
        "        else:\n",
        "            predi_image = reshaped[i,:,:,0]*255\n",
        "            test_image = test[i,:,:,0]*255\n",
        "            \n",
        "            diff = np.abs(predi_image-test_image)\n",
        "            tmp = diff[:,:]\n",
        "            H = signal.convolve2d(tmp, np.ones((4,4)), mode='same')\n",
        "            saliency = saliency_image(H)\n",
        "            \n",
        "            x,y = np.where(saliency> threshold)\n",
        "            anomalie[x,y]=1\n",
        "        \n",
        "        ground_truth_pred.append(anomalie)\n",
        "    ground_truth_pred = np.array(ground_truth_pred)\n",
        "    return(ground_truth_pred)  "
      ],
      "execution_count": null,
      "outputs": []
    },
    {
      "cell_type": "markdown",
      "metadata": {
        "id": "iePlUU9SY6ay"
      },
      "source": [
        ""
      ]
    },
    {
      "cell_type": "markdown",
      "metadata": {
        "id": "JHEz3Ji4dHFI"
      },
      "source": [
        "# TEST\n",
        "\n",
        "\n",
        "\n",
        "\n"
      ]
    },
    {
      "cell_type": "code",
      "metadata": {
        "colab": {
          "base_uri": "https://localhost:8080/",
          "height": 346
        },
        "id": "qdpnIGn-jeJ5",
        "outputId": "0e8ca393-a384-4eb5-df68-20ef482dfcea"
      },
      "source": [
        "def predict_gt_motionDetect(reconstructed_sequences, sa,number):\n",
        "    \n",
        "    threshold_anomaly =np.max(sa)/2\n",
        "    #print(threshold_anomaly)\n",
        "    test_reshaped = sequences\n",
        "    frames = []\n",
        "    threshs=[]\n",
        "    framedeltas = []\n",
        "    anomalies = []\n",
        "    original_frame = []\n",
        "    firstFrame = None\n",
        "    #cols_list=[0,1]\n",
        "    #pd.read_csv('/content/drive/MyDrive/prediction/ped1/Test024/sa.csv', usecols=cols_list)\n",
        "    for i in range(reconstructed_sequences.shape[0]):\n",
        "        #print(sa.iloc[i])\n",
        "        #i['var1'].iloc[0]\n",
        "\n",
        "        # print(type(sa))\n",
        "        # print(type(sa(0)))\n",
        "        # print(type(threshold_anomaly))\n",
        "        if (sa[i]<threshold_anomaly):\n",
        "\n",
        "            #print(\"hello\")\n",
        "            text = \"Normal\"\n",
        "            for j in range(LENGTH_SEQUENCE):  \n",
        "                anomaly = np.zeros(shape=[IMAGE_SIZE[0],IMAGE_SIZE[1], 3], dtype=np.uint8)\n",
        "                thresh = np.zeros(shape=[IMAGE_SIZE[0],IMAGE_SIZE[1], 3], dtype=np.uint8)\n",
        "                frameDelta = np.zeros(shape=[IMAGE_SIZE[0],IMAGE_SIZE[1], 3], dtype=np.uint8)\n",
        "                cv2.imwrite('image.png', reconstructed_sequences[i,j,:,:,:])\n",
        "                image = cv2.imread('image.png') \n",
        "                frame_test = np.array(test_reshaped[i,j,:,:,:],dtype=np.uint8)\n",
        "                frame_predicted = np.array(image,dtype=np.uint8)      \n",
        "                frame = cv2.absdiff(frame_test,frame_predicted)\n",
        "                frame = cv2.GaussianBlur(frame, (5, 5), 0)           \n",
        "                frame = imutils.resize(frame, width=500)\n",
        "                anomaly= imutils.resize(anomaly, width=500)\n",
        "                frame_test= imutils.resize(frame_test, width=500)\n",
        "                cv2.putText(frame, \"Status: {}\".format(text), (10, 20),\n",
        "                        cv2.FONT_HERSHEY_SIMPLEX, 0.5, (255, 0, 0), 2)\n",
        "                cv2.putText(frame_test, \"Status: {}\".format(text), (10, 20),\n",
        "                        cv2.FONT_HERSHEY_SIMPLEX, 0.5, (255, 0, 0), 2)\n",
        "                frames.append(frame)\n",
        "                anomalies.append(anomaly)\n",
        "                original_frame.append(frame_test)\n",
        "                threshs.append(thresh)\n",
        "                framedeltas.append(frameDelta)\n",
        "            firstFrame = None\n",
        "        \n",
        "        else:\n",
        "            #print(\"else hello\")\n",
        "            #firstFrame = None\n",
        "            cnt=0\n",
        "            for k in range(LENGTH_SEQUENCE):\n",
        "                \n",
        "                text = \"Normal\"\n",
        "                anomaly = np.zeros(shape=[IMAGE_SIZE[0],IMAGE_SIZE[1], 3], dtype=np.uint8)\n",
        "                frame_test = np.array(test_reshaped[i,k,:,:,:],dtype=np.uint8)\n",
        "                #########################\n",
        "                cv2.imwrite('image.png', reconstructed_sequences[i,k,:,:,:])\n",
        "                            #*255)\n",
        "                image = cv2.imread('image.png')\n",
        "                ###########################\n",
        "                frame_predicted = np.array(image,dtype=np.uint8)      \n",
        "                frame = cv2.absdiff(frame_test,frame_predicted)\n",
        "                frame = cv2.GaussianBlur(frame, (5, 5), 0)           \n",
        "                frame = imutils.resize(frame, width=500)\n",
        "                anomaly= imutils.resize(anomaly, width=500)\n",
        "                frame_test= imutils.resize(frame_test, width=500)\n",
        "                \n",
        "                gray = cv2.cvtColor(frame, cv2.COLOR_BGR2GRAY)\n",
        "                gray = cv2.GaussianBlur(gray, (21, 21), 0)\n",
        "\n",
        "                if firstFrame is None:\n",
        "                    firstFrame = gray\n",
        "                \n",
        "                frameDelta = cv2.absdiff(firstFrame, gray)   \n",
        "                thresh = cv2.threshold(frameDelta, 29, 255, cv2.THRESH_BINARY)[1]\n",
        "            \n",
        "                thresh = cv2.dilate(thresh, None, iterations=2)\n",
        "                cnts = cv2.findContours(thresh.copy(), cv2.RETR_EXTERNAL,\n",
        "                        cv2.CHAIN_APPROX_SIMPLE)\n",
        "                cnts = imutils.grab_contours(cnts)\n",
        "            \n",
        "                for c in cnts:\n",
        "                    if cv2.contourArea(c) < 500:\n",
        "                        continue\n",
        "                \n",
        "                    (x, y, w, h) = cv2.boundingRect(c)\n",
        "                    cv2.rectangle(frame, (x, y), (x + w, y + h), (0, 255, 0), 2)\n",
        "                    cv2.rectangle(anomaly, (x, y), (x + w, y + h), (255, 255, 255), -1)\n",
        "                    cv2.rectangle(frame_test, (x, y), (x + w, y + h), (0, 255, 0), 2)\n",
        "                    text = \"Anomaly detected\"\n",
        "            \n",
        "            \n",
        "                cv2.putText(frame, \"Status: {}\".format(text), (10, 20),\n",
        "                        cv2.FONT_HERSHEY_SIMPLEX, 0.5, (255, 0, 0), 2)\n",
        "                cv2.putText(frame_test, \"Status: {}\".format(text), (10, 20),\n",
        "                        cv2.FONT_HERSHEY_SIMPLEX, 0.5, (255, 0, 0), 2)\n",
        "                \n",
        "                frames.append(frame)\n",
        "                threshs.append(thresh)\n",
        "                framedeltas.append(frameDelta)\n",
        "                anomalies.append(anomaly)\n",
        "                original_frame.append(frame_test)\n",
        "    \n",
        "    path = '/content/drive/MyDrive/motion_detection/Ped1/Test'+str(number).zfill(3)+'/'\n",
        "    os.makedirs(os.path.dirname(path), exist_ok=True)            \n",
        "    imageio.mimsave(path+'frames.gif', [frames[idx] for idx in range(100,len(frames))], fps=3)\n",
        "    imageio.mimsave(path+'frames threshs.gif', [threshs[idx] for idx in range(100,len(threshs))], fps=3)\n",
        "    imageio.mimsave(path+'frames deltas.gif', [framedeltas[idx] for idx in range(100,len(framedeltas))], fps=3)\n",
        "    imageio.mimsave(path+'gt_predicted.gif', [anomalies[idx] for idx in range(100,len(anomalies))], fps=3)\n",
        "    imageio.mimsave(path+'original_frame.gif', [original_frame[idx] for idx in range(100,len(original_frame))], fps=3)\n",
        "    return(anomalies)\n",
        "\n",
        "number = 1\n",
        "\n",
        "test = get_single_test(number)\n",
        "predicted_sequences, sa= predict_test()   \n",
        "reshaped = np.reshape(predicted_sequences, ((predicted_sequences.shape[0]*LENGTH_SEQUENCE,IMAGE_SIZE[0],IMAGE_SIZE[1],1)))\n",
        "for i in range(200):\n",
        "    path = '/content/drive/MyDrive/testing_path/Peds1/Test'+str(number).zfill(3)+'/'+str(i+1).zfill(3)+'.png'\n",
        "    os.makedirs(os.path.dirname(path), exist_ok=True)\n",
        "    cv2.imwrite(path, reshaped[i,:,:,0]*255)\n",
        "\n",
        "sa = pd.DataFrame(sa, columns=['sa'])\n",
        "path = '/content/drive/MyDrive/prediction/ped1/Test'+str(number).zfill(3)+'/sa.csv'\n",
        "os.makedirs(os.path.dirname(path), exist_ok=True)\n",
        "sa.to_csv(path)\n",
        "sequences_pred = predicted_sequences*255\n",
        "test = get_single_test_MD(number)\n",
        "sequences = make_sequences(test*255)\n",
        "newarr=[]\n",
        "import pandas as pd\n",
        "col_list=[\"sa\"]\n",
        "saa = pd.read_csv('/content/drive/MyDrive/prediction/ped1/Test024/sa.csv',usecols=col_list)\n",
        "print(saa.shape[0])\n",
        "for i in range(saa.shape[0]):\n",
        "  newarr.append(float(saa.iloc[i].to_string().split()[1]))\n",
        "predictions=predict_gt_motionDetect(sequences_pred,newarr,number)"
      ],
      "execution_count": null,
      "outputs": [
        {
          "output_type": "stream",
          "text": [
            "got model\n",
            "(200, 256, 256, 1)\n",
            "got data\n"
          ],
          "name": "stdout"
        },
        {
          "output_type": "display_data",
          "data": {
            "image/png": "[encoded data removed]",
            "text/plain": [
              "<Figure size 432x288 with 1 Axes>"
            ]
          },
          "metadata": {
            "tags": [],
            "needs_background": "light"
          }
        },
        {
          "output_type": "stream",
          "text": [
            "20\n"
          ],
          "name": "stdout"
        }
      ]
    },
    {
      "cell_type": "markdown",
      "metadata": {
        "id": "Bcbc06wIv5F6"
      },
      "source": [
        "# TEST on "
      ]
    },
    {
      "cell_type": "code",
      "metadata": {
        "id": "T6M8v5Kyv5F8"
      },
      "source": [
        "def predict_gt_motionDetect(reconstructed_sequences, sa,number):\n",
        "    \n",
        "    threshold_anomaly =np.max(sa)/2\n",
        "    print(threshold_anomaly)\n",
        "    test_reshaped = sequences\n",
        "    frames = []\n",
        "    threshs=[]\n",
        "    framedeltas = []\n",
        "    anomalies = []\n",
        "    original_frame = []\n",
        "    firstFrame = None\n",
        "    #cols_list=[0,1]\n",
        "    #pd.read_csv('/content/drive/MyDrive/prediction/ped1/Test024/sa.csv', usecols=cols_list)\n",
        "    for i in range(reconstructed_sequences.shape[0]):\n",
        "        #print(sa.iloc[i])\n",
        "        #i['var1'].iloc[0]\n",
        "\n",
        "        # print(type(sa))\n",
        "        # print(type(sa(0)))\n",
        "        # print(type(threshold_anomaly))\n",
        "        if (sa[i]<threshold_anomaly):\n",
        "\n",
        "            #print(\"hello\")\n",
        "            text = \"Normal\"\n",
        "            for j in range(LENGTH_SEQUENCE):  \n",
        "                anomaly = np.zeros(shape=[IMAGE_SIZE[0],IMAGE_SIZE[1], 3], dtype=np.uint8)\n",
        "                thresh = np.zeros(shape=[IMAGE_SIZE[0],IMAGE_SIZE[1], 3], dtype=np.uint8)\n",
        "                frameDelta = np.zeros(shape=[IMAGE_SIZE[0],IMAGE_SIZE[1], 3], dtype=np.uint8)\n",
        "                cv2.imwrite('image.png', reconstructed_sequences[i,j,:,:,:])\n",
        "                image = cv2.imread('image.png') \n",
        "                frame_test = np.array(test_reshaped[i,j,:,:,:],dtype=np.uint8)\n",
        "                frame_predicted = np.array(image,dtype=np.uint8)      \n",
        "                frame = cv2.absdiff(frame_test,frame_predicted)\n",
        "                frame = cv2.GaussianBlur(frame, (5, 5), 0)           \n",
        "                frame = imutils.resize(frame, width=500)\n",
        "                anomaly= imutils.resize(anomaly, width=500)\n",
        "                frame_test= imutils.resize(frame_test, width=500)\n",
        "                cv2.putText(frame, \"Status: {}\".format(text), (10, 20),\n",
        "                        cv2.FONT_HERSHEY_SIMPLEX, 0.5, (255, 0, 0), 2)\n",
        "                cv2.putText(frame_test, \"Status: {}\".format(text), (10, 20),\n",
        "                        cv2.FONT_HERSHEY_SIMPLEX, 0.5, (255, 0, 0), 2)\n",
        "                frames.append(frame)\n",
        "                anomalies.append(anomaly)\n",
        "                original_frame.append(frame_test)\n",
        "                threshs.append(thresh)\n",
        "                framedeltas.append(frameDelta)\n",
        "            firstFrame = None\n",
        "        \n",
        "        else:\n",
        "            #print(\"else hello\")\n",
        "            #firstFrame = None\n",
        "            cnt=0\n",
        "            for k in range(LENGTH_SEQUENCE):\n",
        "                \n",
        "                text = \"Normal\"\n",
        "                anomaly = np.zeros(shape=[IMAGE_SIZE[0],IMAGE_SIZE[1], 3], dtype=np.uint8)\n",
        "                frame_test = np.array(test_reshaped[i,k,:,:,:],dtype=np.uint8)\n",
        "                #########################\n",
        "                cv2.imwrite('image.png', reconstructed_sequences[i,k,:,:,:])\n",
        "                            #*255)\n",
        "                image = cv2.imread('image.png')\n",
        "                ###########################\n",
        "                frame_predicted = np.array(image,dtype=np.uint8)      \n",
        "                frame = cv2.absdiff(frame_test,frame_predicted)\n",
        "                frame = cv2.GaussianBlur(frame, (5, 5), 0)           \n",
        "                frame = imutils.resize(frame, width=500)\n",
        "                anomaly= imutils.resize(anomaly, width=500)\n",
        "                frame_test= imutils.resize(frame_test, width=500)\n",
        "                \n",
        "                gray = cv2.cvtColor(frame, cv2.COLOR_BGR2GRAY)\n",
        "                gray = cv2.GaussianBlur(gray, (21, 21), 0)\n",
        "\n",
        "                if firstFrame is None:\n",
        "                    firstFrame = gray\n",
        "                \n",
        "                frameDelta = cv2.absdiff(firstFrame, gray)   \n",
        "                thresh = cv2.threshold(frameDelta, 29, 255, cv2.THRESH_BINARY)[1]\n",
        "            \n",
        "                thresh = cv2.dilate(thresh, None, iterations=2)\n",
        "                cnts = cv2.findContours(thresh.copy(), cv2.RETR_EXTERNAL,\n",
        "                        cv2.CHAIN_APPROX_SIMPLE)\n",
        "                cnts = imutils.grab_contours(cnts)\n",
        "            \n",
        "                for c in cnts:\n",
        "                    if cv2.contourArea(c) < 500:\n",
        "                        continue\n",
        "                \n",
        "                    (x, y, w, h) = cv2.boundingRect(c)\n",
        "                    cv2.rectangle(frame, (x, y), (x + w, y + h), (0, 255, 0), 2)\n",
        "                    cv2.rectangle(anomaly, (x, y), (x + w, y + h), (255, 255, 255), -1)\n",
        "                    cv2.rectangle(frame_test, (x, y), (x + w, y + h), (0, 255, 0), 2)\n",
        "                    text = \"Anomaly detected\"\n",
        "            \n",
        "            \n",
        "                cv2.putText(frame, \"Status: {}\".format(text), (10, 20),\n",
        "                        cv2.FONT_HERSHEY_SIMPLEX, 0.5, (255, 0, 0), 2)\n",
        "                cv2.putText(frame_test, \"Status: {}\".format(text), (10, 20),\n",
        "                        cv2.FONT_HERSHEY_SIMPLEX, 0.5, (255, 0, 0), 2)\n",
        "                \n",
        "                frames.append(frame)\n",
        "                threshs.append(thresh)\n",
        "                framedeltas.append(frameDelta)\n",
        "                anomalies.append(anomaly)\n",
        "                original_frame.append(frame_test)\n",
        "    \n",
        "    path = '/content/drive/MyDrive/motion_detection/Ped1/Test'+str(number).zfill(3)+'/'\n",
        "    os.makedirs(os.path.dirname(path), exist_ok=True)            \n",
        "    imageio.mimsave(path+'frames.gif', [frames[idx] for idx in range(150,len(frames))], fps=1)\n",
        "    imageio.mimsave(path+'frames threshs.gif', [threshs[idx] for idx in range(150,len(threshs))], fps=1)\n",
        "    imageio.mimsave(path+'frames deltas.gif', [framedeltas[idx] for idx in range(150,len(framedeltas))], fps=1)\n",
        "    imageio.mimsave(path+'gt_predicted.gif', [anomalies[idx] for idx in range(150,len(anomalies))], fps=1)\n",
        "    imageio.mimsave(path+'original_frame.gif', [original_frame[idx] for idx in range(150,len(original_frame))], fps=1)\n",
        "    return(anomalies)"
      ],
      "execution_count": null,
      "outputs": []
    },
    {
      "cell_type": "code",
      "metadata": {
        "id": "SLk-Yx0bv5F_"
      },
      "source": [
        "number = 24"
      ],
      "execution_count": null,
      "outputs": []
    },
    {
      "cell_type": "code",
      "metadata": {
        "id": "JCOgGg4bv5GA"
      },
      "source": [
        "test = get_single_test(number)\n"
      ],
      "execution_count": null,
      "outputs": []
    },
    {
      "cell_type": "code",
      "metadata": {
        "colab": {
          "base_uri": "https://localhost:8080/",
          "height": 331
        },
        "id": "7HEvtUzwv5GB",
        "outputId": "0ac4f46a-fb31-4063-b268-dc10255db05b"
      },
      "source": [
        "predicted_sequences, sa= predict_test()"
      ],
      "execution_count": null,
      "outputs": [
        {
          "output_type": "stream",
          "text": [
            "got model\n",
            "(200, 256, 256, 1)\n",
            "got data\n"
          ],
          "name": "stdout"
        },
        {
          "output_type": "display_data",
          "data": {
            "image/png": "[encoded data removed]",
            "text/plain": [
              "<Figure size 432x288 with 1 Axes>"
            ]
          },
          "metadata": {
            "tags": [],
            "needs_background": "light"
          }
        }
      ]
    },
    {
      "cell_type": "code",
      "metadata": {
        "id": "MBO5A5Dav5Gi"
      },
      "source": [
        "#### Save the predicted seqeunces \n",
        "reshaped = np.reshape(predicted_sequences, ((predicted_sequences.shape[0]*LENGTH_SEQUENCE,IMAGE_SIZE[0],IMAGE_SIZE[1],1)))\n",
        "for i in range(200):\n",
        "    path = '/content/drive/MyDrive/testing_path/Peds1/Test'+str(number).zfill(3)+'/'+str(i+1).zfill(3)+'.png'\n",
        "    os.makedirs(os.path.dirname(path), exist_ok=True)\n",
        "    cv2.imwrite(path, reshaped[i,:,:,0]*255)\n",
        "\n",
        "sa = pd.DataFrame(sa, columns=['sa'])\n",
        "path = '/content/drive/MyDrive/prediction/ped1/Test'+str(number).zfill(3)+'/sa.csv'\n",
        "os.makedirs(os.path.dirname(path), exist_ok=True)\n",
        "sa.to_csv(path)"
      ],
      "execution_count": null,
      "outputs": []
    },
    {
      "cell_type": "code",
      "metadata": {
        "id": "H-aGMWpev5Gl"
      },
      "source": [
        "sequences_pred = predicted_sequences*255"
      ],
      "execution_count": null,
      "outputs": []
    },
    {
      "cell_type": "code",
      "metadata": {
        "id": "L8IRslIrv5Gm"
      },
      "source": [
        "test = get_single_test_MD(number)"
      ],
      "execution_count": null,
      "outputs": []
    },
    {
      "cell_type": "code",
      "metadata": {
        "id": "a8ic5-iSv5Gn"
      },
      "source": [
        "sequences = make_sequences(test*255)"
      ],
      "execution_count": null,
      "outputs": []
    },
    {
      "cell_type": "code",
      "metadata": {
        "colab": {
          "base_uri": "https://localhost:8080/"
        },
        "id": "jQDhsKIXv5Go",
        "outputId": "d56ff6cf-a600-445e-f7b5-f4dfa4df1862"
      },
      "source": [
        "newarr=[]\n",
        "import pandas as pd\n",
        "col_list=[\"sa\"]\n",
        "saa = pd.read_csv('/content/drive/MyDrive/prediction/ped1/Test024/sa.csv',usecols=col_list)\n",
        "print(saa.shape[0])\n",
        "for i in range(saa.shape[0]):\n",
        "  newarr.append(float(saa.iloc[i].to_string().split()[1]))\n",
        "print(newarr)\n",
        "print(type(newarr[0]))\n",
        "\n",
        "\n"
      ],
      "execution_count": null,
      "outputs": [
        {
          "output_type": "stream",
          "text": [
            "20\n",
            "[0.124453, 0.124032, 0.123108, 0.129119, 0.152561, 0.172722, 0.184843, 0.20413, 0.208166, 0.219337, 0.222866, 0.225689, 0.253926, 0.265602, 0.273036, 0.337907, 0.285401, 0.009284, 0.005121, 0.0]\n",
            "<class 'float'>\n"
          ],
          "name": "stdout"
        }
      ]
    },
    {
      "cell_type": "code",
      "metadata": {
        "colab": {
          "base_uri": "https://localhost:8080/"
        },
        "id": "i4hYhJ23v5Gp",
        "outputId": "3024c966-7c3a-470b-b998-11ba0345ab17"
      },
      "source": [
        "predictions=predict_gt_motionDetect(sequences_pred,newarr,number)"
      ],
      "execution_count": null,
      "outputs": [
        {
          "output_type": "stream",
          "text": [
            "0.1689535\n"
          ],
          "name": "stdout"
        }
      ]
    },
    {
      "cell_type": "markdown",
      "metadata": {
        "id": "FwaAI06Ev9zt"
      },
      "source": [
        "# TEST on "
      ]
    },
    {
      "cell_type": "code",
      "metadata": {
        "id": "Q8W0z461v9zu"
      },
      "source": [
        "def predict_gt_motionDetect(reconstructed_sequences, sa,number):\n",
        "    \n",
        "    threshold_anomaly =np.max(sa)/2\n",
        "    print(threshold_anomaly)\n",
        "    test_reshaped = sequences\n",
        "    frames = []\n",
        "    threshs=[]\n",
        "    framedeltas = []\n",
        "    anomalies = []\n",
        "    original_frame = []\n",
        "    firstFrame = None\n",
        "    #cols_list=[0,1]\n",
        "    #pd.read_csv('/content/drive/MyDrive/prediction/ped1/Test024/sa.csv', usecols=cols_list)\n",
        "    for i in range(reconstructed_sequences.shape[0]):\n",
        "        #print(sa.iloc[i])\n",
        "        #i['var1'].iloc[0]\n",
        "\n",
        "        # print(type(sa))\n",
        "        # print(type(sa(0)))\n",
        "        # print(type(threshold_anomaly))\n",
        "        if (sa[i]<threshold_anomaly):\n",
        "\n",
        "            #print(\"hello\")\n",
        "            text = \"Normal\"\n",
        "            for j in range(LENGTH_SEQUENCE):  \n",
        "                anomaly = np.zeros(shape=[IMAGE_SIZE[0],IMAGE_SIZE[1], 3], dtype=np.uint8)\n",
        "                thresh = np.zeros(shape=[IMAGE_SIZE[0],IMAGE_SIZE[1], 3], dtype=np.uint8)\n",
        "                frameDelta = np.zeros(shape=[IMAGE_SIZE[0],IMAGE_SIZE[1], 3], dtype=np.uint8)\n",
        "                cv2.imwrite('image.png', reconstructed_sequences[i,j,:,:,:])\n",
        "                image = cv2.imread('image.png') \n",
        "                frame_test = np.array(test_reshaped[i,j,:,:,:],dtype=np.uint8)\n",
        "                frame_predicted = np.array(image,dtype=np.uint8)      \n",
        "                frame = cv2.absdiff(frame_test,frame_predicted)\n",
        "                frame = cv2.GaussianBlur(frame, (5, 5), 0)           \n",
        "                frame = imutils.resize(frame, width=500)\n",
        "                anomaly= imutils.resize(anomaly, width=500)\n",
        "                frame_test= imutils.resize(frame_test, width=500)\n",
        "                cv2.putText(frame, \"Status: {}\".format(text), (10, 20),\n",
        "                        cv2.FONT_HERSHEY_SIMPLEX, 0.5, (255, 0, 0), 2)\n",
        "                cv2.putText(frame_test, \"Status: {}\".format(text), (10, 20),\n",
        "                        cv2.FONT_HERSHEY_SIMPLEX, 0.5, (255, 0, 0), 2)\n",
        "                frames.append(frame)\n",
        "                anomalies.append(anomaly)\n",
        "                original_frame.append(frame_test)\n",
        "                threshs.append(thresh)\n",
        "                framedeltas.append(frameDelta)\n",
        "            firstFrame = None\n",
        "        \n",
        "        else:\n",
        "            #print(\"else hello\")\n",
        "            #firstFrame = None\n",
        "            cnt=0\n",
        "            for k in range(LENGTH_SEQUENCE):\n",
        "                \n",
        "                text = \"Normal\"\n",
        "                anomaly = np.zeros(shape=[IMAGE_SIZE[0],IMAGE_SIZE[1], 3], dtype=np.uint8)\n",
        "                frame_test = np.array(test_reshaped[i,k,:,:,:],dtype=np.uint8)\n",
        "                #########################\n",
        "                cv2.imwrite('image.png', reconstructed_sequences[i,k,:,:,:])\n",
        "                            #*255)\n",
        "                image = cv2.imread('image.png')\n",
        "                ###########################\n",
        "                frame_predicted = np.array(image,dtype=np.uint8)      \n",
        "                frame = cv2.absdiff(frame_test,frame_predicted)\n",
        "                frame = cv2.GaussianBlur(frame, (5, 5), 0)           \n",
        "                frame = imutils.resize(frame, width=500)\n",
        "                anomaly= imutils.resize(anomaly, width=500)\n",
        "                frame_test= imutils.resize(frame_test, width=500)\n",
        "                \n",
        "                gray = cv2.cvtColor(frame, cv2.COLOR_BGR2GRAY)\n",
        "                gray = cv2.GaussianBlur(gray, (21, 21), 0)\n",
        "\n",
        "                if firstFrame is None:\n",
        "                    firstFrame = gray\n",
        "                \n",
        "                frameDelta = cv2.absdiff(firstFrame, gray)   \n",
        "                thresh = cv2.threshold(frameDelta, 29, 255, cv2.THRESH_BINARY)[1]\n",
        "            \n",
        "                thresh = cv2.dilate(thresh, None, iterations=2)\n",
        "                cnts = cv2.findContours(thresh.copy(), cv2.RETR_EXTERNAL,\n",
        "                        cv2.CHAIN_APPROX_SIMPLE)\n",
        "                cnts = imutils.grab_contours(cnts)\n",
        "            \n",
        "                for c in cnts:\n",
        "                    if cv2.contourArea(c) < 500:\n",
        "                        continue\n",
        "                \n",
        "                    (x, y, w, h) = cv2.boundingRect(c)\n",
        "                    cv2.rectangle(frame, (x, y), (x + w, y + h), (0, 255, 0), 2)\n",
        "                    cv2.rectangle(anomaly, (x, y), (x + w, y + h), (255, 255, 255), -1)\n",
        "                    cv2.rectangle(frame_test, (x, y), (x + w, y + h), (0, 255, 0), 2)\n",
        "                    text = \"Anomaly detected\"\n",
        "            \n",
        "            \n",
        "                cv2.putText(frame, \"Status: {}\".format(text), (10, 20),\n",
        "                        cv2.FONT_HERSHEY_SIMPLEX, 0.5, (255, 0, 0), 2)\n",
        "                cv2.putText(frame_test, \"Status: {}\".format(text), (10, 20),\n",
        "                        cv2.FONT_HERSHEY_SIMPLEX, 0.5, (255, 0, 0), 2)\n",
        "                \n",
        "                frames.append(frame)\n",
        "                threshs.append(thresh)\n",
        "                framedeltas.append(frameDelta)\n",
        "                anomalies.append(anomaly)\n",
        "                original_frame.append(frame_test)\n",
        "    \n",
        "    path = '/content/drive/MyDrive/motion_detection/Ped1/Test'+str(number).zfill(3)+'/'\n",
        "    os.makedirs(os.path.dirname(path), exist_ok=True)            \n",
        "    imageio.mimsave(path+'frames.gif', [frames[idx] for idx in range(len(frames))], fps=1)\n",
        "    imageio.mimsave(path+'frames threshs.gif', [threshs[idx] for idx in range(len(threshs))], fps=1)\n",
        "    imageio.mimsave(path+'frames deltas.gif', [framedeltas[idx] for idx in range(len(framedeltas))], fps=1)\n",
        "    imageio.mimsave(path+'gt_predicted.gif', [anomalies[idx] for idx in range(len(anomalies))], fps=1)\n",
        "    imageio.mimsave(path+'original_frame.gif', [original_frame[idx] for idx in range(53,len(original_frame))], fps=1)\n",
        "    return(anomalies)\n",
        "                "
      ],
      "execution_count": null,
      "outputs": []
    },
    {
      "cell_type": "code",
      "metadata": {
        "id": "Mbg29TTVv9zw"
      },
      "source": [
        "number = 3"
      ],
      "execution_count": null,
      "outputs": []
    },
    {
      "cell_type": "code",
      "metadata": {
        "id": "o_otOCNgv9zw"
      },
      "source": [
        "test = get_single_test(number)\n"
      ],
      "execution_count": null,
      "outputs": []
    },
    {
      "cell_type": "code",
      "metadata": {
        "colab": {
          "base_uri": "https://localhost:8080/",
          "height": 330
        },
        "id": "QrTmI_nJv9zx",
        "outputId": "41399904-140d-4582-b857-23599faaeb8b"
      },
      "source": [
        "predicted_sequences, sa= predict_test()"
      ],
      "execution_count": null,
      "outputs": [
        {
          "output_type": "stream",
          "text": [
            "got model\n",
            "(200, 256, 256, 1)\n",
            "got data\n"
          ],
          "name": "stdout"
        },
        {
          "output_type": "display_data",
          "data": {
            "image/png": "[encoded data removed]",
            "text/plain": [
              "<Figure size 432x288 with 1 Axes>"
            ]
          },
          "metadata": {
            "tags": [],
            "needs_background": "light"
          }
        }
      ]
    },
    {
      "cell_type": "code",
      "metadata": {
        "colab": {
          "base_uri": "https://localhost:8080/"
        },
        "id": "bQmmmYxhv9zy",
        "outputId": "7f19fb56-5060-47a1-fd85-96cb0b1f1bd1"
      },
      "source": [
        "np.max(sa)/2"
      ],
      "execution_count": null,
      "outputs": [
        {
          "output_type": "execute_result",
          "data": {
            "text/plain": [
              "0.15936788139623886"
            ]
          },
          "metadata": {
            "tags": []
          },
          "execution_count": 92
        }
      ]
    },
    {
      "cell_type": "code",
      "metadata": {
        "colab": {
          "base_uri": "https://localhost:8080/"
        },
        "id": "fbLy9M24v9zz",
        "outputId": "e9405dd4-1efc-4e20-c8f0-9cb19748f3ea"
      },
      "source": [
        "#### Save the predicted seqeunces \n",
        "reshaped = np.reshape(predicted_sequences, ((predicted_sequences.shape[0]*LENGTH_SEQUENCE,IMAGE_SIZE[0],IMAGE_SIZE[1],1)))\n",
        "for i in range(200):\n",
        "    path = '/content/drive/MyDrive/testing_path/Peds1/Test'+str(number).zfill(3)+'/'+str(i+1).zfill(3)+'.png'\n",
        "    os.makedirs(os.path.dirname(path), exist_ok=True)\n",
        "    cv2.imwrite(path, reshaped[i,:,:,0]*255)\n",
        "\n",
        "sa = pd.DataFrame(sa, columns=['sa'])\n",
        "path = '/content/drive/MyDrive/prediction/ped1/Test'+str(number).zfill(3)+'/sa.csv'\n",
        "os.makedirs(os.path.dirname(path), exist_ok=True)\n",
        "sa.to_csv(path)"
      ],
      "execution_count": null,
      "outputs": [
        {
          "output_type": "execute_result",
          "data": {
            "text/plain": [
              "True"
            ]
          },
          "metadata": {
            "tags": []
          },
          "execution_count": 93
        },
        {
          "output_type": "execute_result",
          "data": {
            "text/plain": [
              "True"
            ]
          },
          "metadata": {
            "tags": []
          },
          "execution_count": 93
        },
        {
          "output_type": "execute_result",
          "data": {
            "text/plain": [
              "True"
            ]
          },
          "metadata": {
            "tags": []
          },
          "execution_count": 93
        },
        {
          "output_type": "execute_result",
          "data": {
            "text/plain": [
              "True"
            ]
          },
          "metadata": {
            "tags": []
          },
          "execution_count": 93
        },
        {
          "output_type": "execute_result",
          "data": {
            "text/plain": [
              "True"
            ]
          },
          "metadata": {
            "tags": []
          },
          "execution_count": 93
        },
        {
          "output_type": "execute_result",
          "data": {
            "text/plain": [
              "True"
            ]
          },
          "metadata": {
            "tags": []
          },
          "execution_count": 93
        },
        {
          "output_type": "execute_result",
          "data": {
            "text/plain": [
              "True"
            ]
          },
          "metadata": {
            "tags": []
          },
          "execution_count": 93
        },
        {
          "output_type": "execute_result",
          "data": {
            "text/plain": [
              "True"
            ]
          },
          "metadata": {
            "tags": []
          },
          "execution_count": 93
        },
        {
          "output_type": "execute_result",
          "data": {
            "text/plain": [
              "True"
            ]
          },
          "metadata": {
            "tags": []
          },
          "execution_count": 93
        },
        {
          "output_type": "execute_result",
          "data": {
            "text/plain": [
              "True"
            ]
          },
          "metadata": {
            "tags": []
          },
          "execution_count": 93
        },
        {
          "output_type": "execute_result",
          "data": {
            "text/plain": [
              "True"
            ]
          },
          "metadata": {
            "tags": []
          },
          "execution_count": 93
        },
        {
          "output_type": "execute_result",
          "data": {
            "text/plain": [
              "True"
            ]
          },
          "metadata": {
            "tags": []
          },
          "execution_count": 93
        },
        {
          "output_type": "execute_result",
          "data": {
            "text/plain": [
              "True"
            ]
          },
          "metadata": {
            "tags": []
          },
          "execution_count": 93
        },
        {
          "output_type": "execute_result",
          "data": {
            "text/plain": [
              "True"
            ]
          },
          "metadata": {
            "tags": []
          },
          "execution_count": 93
        },
        {
          "output_type": "execute_result",
          "data": {
            "text/plain": [
              "True"
            ]
          },
          "metadata": {
            "tags": []
          },
          "execution_count": 93
        },
        {
          "output_type": "execute_result",
          "data": {
            "text/plain": [
              "True"
            ]
          },
          "metadata": {
            "tags": []
          },
          "execution_count": 93
        },
        {
          "output_type": "execute_result",
          "data": {
            "text/plain": [
              "True"
            ]
          },
          "metadata": {
            "tags": []
          },
          "execution_count": 93
        },
        {
          "output_type": "execute_result",
          "data": {
            "text/plain": [
              "True"
            ]
          },
          "metadata": {
            "tags": []
          },
          "execution_count": 93
        },
        {
          "output_type": "execute_result",
          "data": {
            "text/plain": [
              "True"
            ]
          },
          "metadata": {
            "tags": []
          },
          "execution_count": 93
        },
        {
          "output_type": "execute_result",
          "data": {
            "text/plain": [
              "True"
            ]
          },
          "metadata": {
            "tags": []
          },
          "execution_count": 93
        },
        {
          "output_type": "execute_result",
          "data": {
            "text/plain": [
              "True"
            ]
          },
          "metadata": {
            "tags": []
          },
          "execution_count": 93
        },
        {
          "output_type": "execute_result",
          "data": {
            "text/plain": [
              "True"
            ]
          },
          "metadata": {
            "tags": []
          },
          "execution_count": 93
        },
        {
          "output_type": "execute_result",
          "data": {
            "text/plain": [
              "True"
            ]
          },
          "metadata": {
            "tags": []
          },
          "execution_count": 93
        },
        {
          "output_type": "execute_result",
          "data": {
            "text/plain": [
              "True"
            ]
          },
          "metadata": {
            "tags": []
          },
          "execution_count": 93
        },
        {
          "output_type": "execute_result",
          "data": {
            "text/plain": [
              "True"
            ]
          },
          "metadata": {
            "tags": []
          },
          "execution_count": 93
        },
        {
          "output_type": "execute_result",
          "data": {
            "text/plain": [
              "True"
            ]
          },
          "metadata": {
            "tags": []
          },
          "execution_count": 93
        },
        {
          "output_type": "execute_result",
          "data": {
            "text/plain": [
              "True"
            ]
          },
          "metadata": {
            "tags": []
          },
          "execution_count": 93
        },
        {
          "output_type": "execute_result",
          "data": {
            "text/plain": [
              "True"
            ]
          },
          "metadata": {
            "tags": []
          },
          "execution_count": 93
        },
        {
          "output_type": "execute_result",
          "data": {
            "text/plain": [
              "True"
            ]
          },
          "metadata": {
            "tags": []
          },
          "execution_count": 93
        },
        {
          "output_type": "execute_result",
          "data": {
            "text/plain": [
              "True"
            ]
          },
          "metadata": {
            "tags": []
          },
          "execution_count": 93
        },
        {
          "output_type": "execute_result",
          "data": {
            "text/plain": [
              "True"
            ]
          },
          "metadata": {
            "tags": []
          },
          "execution_count": 93
        },
        {
          "output_type": "execute_result",
          "data": {
            "text/plain": [
              "True"
            ]
          },
          "metadata": {
            "tags": []
          },
          "execution_count": 93
        },
        {
          "output_type": "execute_result",
          "data": {
            "text/plain": [
              "True"
            ]
          },
          "metadata": {
            "tags": []
          },
          "execution_count": 93
        },
        {
          "output_type": "execute_result",
          "data": {
            "text/plain": [
              "True"
            ]
          },
          "metadata": {
            "tags": []
          },
          "execution_count": 93
        },
        {
          "output_type": "execute_result",
          "data": {
            "text/plain": [
              "True"
            ]
          },
          "metadata": {
            "tags": []
          },
          "execution_count": 93
        },
        {
          "output_type": "execute_result",
          "data": {
            "text/plain": [
              "True"
            ]
          },
          "metadata": {
            "tags": []
          },
          "execution_count": 93
        },
        {
          "output_type": "execute_result",
          "data": {
            "text/plain": [
              "True"
            ]
          },
          "metadata": {
            "tags": []
          },
          "execution_count": 93
        },
        {
          "output_type": "execute_result",
          "data": {
            "text/plain": [
              "True"
            ]
          },
          "metadata": {
            "tags": []
          },
          "execution_count": 93
        },
        {
          "output_type": "execute_result",
          "data": {
            "text/plain": [
              "True"
            ]
          },
          "metadata": {
            "tags": []
          },
          "execution_count": 93
        },
        {
          "output_type": "execute_result",
          "data": {
            "text/plain": [
              "True"
            ]
          },
          "metadata": {
            "tags": []
          },
          "execution_count": 93
        },
        {
          "output_type": "execute_result",
          "data": {
            "text/plain": [
              "True"
            ]
          },
          "metadata": {
            "tags": []
          },
          "execution_count": 93
        },
        {
          "output_type": "execute_result",
          "data": {
            "text/plain": [
              "True"
            ]
          },
          "metadata": {
            "tags": []
          },
          "execution_count": 93
        },
        {
          "output_type": "execute_result",
          "data": {
            "text/plain": [
              "True"
            ]
          },
          "metadata": {
            "tags": []
          },
          "execution_count": 93
        },
        {
          "output_type": "execute_result",
          "data": {
            "text/plain": [
              "True"
            ]
          },
          "metadata": {
            "tags": []
          },
          "execution_count": 93
        },
        {
          "output_type": "execute_result",
          "data": {
            "text/plain": [
              "True"
            ]
          },
          "metadata": {
            "tags": []
          },
          "execution_count": 93
        },
        {
          "output_type": "execute_result",
          "data": {
            "text/plain": [
              "True"
            ]
          },
          "metadata": {
            "tags": []
          },
          "execution_count": 93
        },
        {
          "output_type": "execute_result",
          "data": {
            "text/plain": [
              "True"
            ]
          },
          "metadata": {
            "tags": []
          },
          "execution_count": 93
        },
        {
          "output_type": "execute_result",
          "data": {
            "text/plain": [
              "True"
            ]
          },
          "metadata": {
            "tags": []
          },
          "execution_count": 93
        },
        {
          "output_type": "execute_result",
          "data": {
            "text/plain": [
              "True"
            ]
          },
          "metadata": {
            "tags": []
          },
          "execution_count": 93
        },
        {
          "output_type": "execute_result",
          "data": {
            "text/plain": [
              "True"
            ]
          },
          "metadata": {
            "tags": []
          },
          "execution_count": 93
        },
        {
          "output_type": "execute_result",
          "data": {
            "text/plain": [
              "True"
            ]
          },
          "metadata": {
            "tags": []
          },
          "execution_count": 93
        },
        {
          "output_type": "execute_result",
          "data": {
            "text/plain": [
              "True"
            ]
          },
          "metadata": {
            "tags": []
          },
          "execution_count": 93
        },
        {
          "output_type": "execute_result",
          "data": {
            "text/plain": [
              "True"
            ]
          },
          "metadata": {
            "tags": []
          },
          "execution_count": 93
        },
        {
          "output_type": "execute_result",
          "data": {
            "text/plain": [
              "True"
            ]
          },
          "metadata": {
            "tags": []
          },
          "execution_count": 93
        },
        {
          "output_type": "execute_result",
          "data": {
            "text/plain": [
              "True"
            ]
          },
          "metadata": {
            "tags": []
          },
          "execution_count": 93
        },
        {
          "output_type": "execute_result",
          "data": {
            "text/plain": [
              "True"
            ]
          },
          "metadata": {
            "tags": []
          },
          "execution_count": 93
        },
        {
          "output_type": "execute_result",
          "data": {
            "text/plain": [
              "True"
            ]
          },
          "metadata": {
            "tags": []
          },
          "execution_count": 93
        },
        {
          "output_type": "execute_result",
          "data": {
            "text/plain": [
              "True"
            ]
          },
          "metadata": {
            "tags": []
          },
          "execution_count": 93
        },
        {
          "output_type": "execute_result",
          "data": {
            "text/plain": [
              "True"
            ]
          },
          "metadata": {
            "tags": []
          },
          "execution_count": 93
        },
        {
          "output_type": "execute_result",
          "data": {
            "text/plain": [
              "True"
            ]
          },
          "metadata": {
            "tags": []
          },
          "execution_count": 93
        },
        {
          "output_type": "execute_result",
          "data": {
            "text/plain": [
              "True"
            ]
          },
          "metadata": {
            "tags": []
          },
          "execution_count": 93
        },
        {
          "output_type": "execute_result",
          "data": {
            "text/plain": [
              "True"
            ]
          },
          "metadata": {
            "tags": []
          },
          "execution_count": 93
        },
        {
          "output_type": "execute_result",
          "data": {
            "text/plain": [
              "True"
            ]
          },
          "metadata": {
            "tags": []
          },
          "execution_count": 93
        },
        {
          "output_type": "execute_result",
          "data": {
            "text/plain": [
              "True"
            ]
          },
          "metadata": {
            "tags": []
          },
          "execution_count": 93
        },
        {
          "output_type": "execute_result",
          "data": {
            "text/plain": [
              "True"
            ]
          },
          "metadata": {
            "tags": []
          },
          "execution_count": 93
        },
        {
          "output_type": "execute_result",
          "data": {
            "text/plain": [
              "True"
            ]
          },
          "metadata": {
            "tags": []
          },
          "execution_count": 93
        },
        {
          "output_type": "execute_result",
          "data": {
            "text/plain": [
              "True"
            ]
          },
          "metadata": {
            "tags": []
          },
          "execution_count": 93
        },
        {
          "output_type": "execute_result",
          "data": {
            "text/plain": [
              "True"
            ]
          },
          "metadata": {
            "tags": []
          },
          "execution_count": 93
        },
        {
          "output_type": "execute_result",
          "data": {
            "text/plain": [
              "True"
            ]
          },
          "metadata": {
            "tags": []
          },
          "execution_count": 93
        },
        {
          "output_type": "execute_result",
          "data": {
            "text/plain": [
              "True"
            ]
          },
          "metadata": {
            "tags": []
          },
          "execution_count": 93
        },
        {
          "output_type": "execute_result",
          "data": {
            "text/plain": [
              "True"
            ]
          },
          "metadata": {
            "tags": []
          },
          "execution_count": 93
        },
        {
          "output_type": "execute_result",
          "data": {
            "text/plain": [
              "True"
            ]
          },
          "metadata": {
            "tags": []
          },
          "execution_count": 93
        },
        {
          "output_type": "execute_result",
          "data": {
            "text/plain": [
              "True"
            ]
          },
          "metadata": {
            "tags": []
          },
          "execution_count": 93
        },
        {
          "output_type": "execute_result",
          "data": {
            "text/plain": [
              "True"
            ]
          },
          "metadata": {
            "tags": []
          },
          "execution_count": 93
        },
        {
          "output_type": "execute_result",
          "data": {
            "text/plain": [
              "True"
            ]
          },
          "metadata": {
            "tags": []
          },
          "execution_count": 93
        },
        {
          "output_type": "execute_result",
          "data": {
            "text/plain": [
              "True"
            ]
          },
          "metadata": {
            "tags": []
          },
          "execution_count": 93
        },
        {
          "output_type": "execute_result",
          "data": {
            "text/plain": [
              "True"
            ]
          },
          "metadata": {
            "tags": []
          },
          "execution_count": 93
        },
        {
          "output_type": "execute_result",
          "data": {
            "text/plain": [
              "True"
            ]
          },
          "metadata": {
            "tags": []
          },
          "execution_count": 93
        },
        {
          "output_type": "execute_result",
          "data": {
            "text/plain": [
              "True"
            ]
          },
          "metadata": {
            "tags": []
          },
          "execution_count": 93
        },
        {
          "output_type": "execute_result",
          "data": {
            "text/plain": [
              "True"
            ]
          },
          "metadata": {
            "tags": []
          },
          "execution_count": 93
        },
        {
          "output_type": "execute_result",
          "data": {
            "text/plain": [
              "True"
            ]
          },
          "metadata": {
            "tags": []
          },
          "execution_count": 93
        },
        {
          "output_type": "execute_result",
          "data": {
            "text/plain": [
              "True"
            ]
          },
          "metadata": {
            "tags": []
          },
          "execution_count": 93
        },
        {
          "output_type": "execute_result",
          "data": {
            "text/plain": [
              "True"
            ]
          },
          "metadata": {
            "tags": []
          },
          "execution_count": 93
        },
        {
          "output_type": "execute_result",
          "data": {
            "text/plain": [
              "True"
            ]
          },
          "metadata": {
            "tags": []
          },
          "execution_count": 93
        },
        {
          "output_type": "execute_result",
          "data": {
            "text/plain": [
              "True"
            ]
          },
          "metadata": {
            "tags": []
          },
          "execution_count": 93
        },
        {
          "output_type": "execute_result",
          "data": {
            "text/plain": [
              "True"
            ]
          },
          "metadata": {
            "tags": []
          },
          "execution_count": 93
        },
        {
          "output_type": "execute_result",
          "data": {
            "text/plain": [
              "True"
            ]
          },
          "metadata": {
            "tags": []
          },
          "execution_count": 93
        },
        {
          "output_type": "execute_result",
          "data": {
            "text/plain": [
              "True"
            ]
          },
          "metadata": {
            "tags": []
          },
          "execution_count": 93
        },
        {
          "output_type": "execute_result",
          "data": {
            "text/plain": [
              "True"
            ]
          },
          "metadata": {
            "tags": []
          },
          "execution_count": 93
        },
        {
          "output_type": "execute_result",
          "data": {
            "text/plain": [
              "True"
            ]
          },
          "metadata": {
            "tags": []
          },
          "execution_count": 93
        },
        {
          "output_type": "execute_result",
          "data": {
            "text/plain": [
              "True"
            ]
          },
          "metadata": {
            "tags": []
          },
          "execution_count": 93
        },
        {
          "output_type": "execute_result",
          "data": {
            "text/plain": [
              "True"
            ]
          },
          "metadata": {
            "tags": []
          },
          "execution_count": 93
        },
        {
          "output_type": "execute_result",
          "data": {
            "text/plain": [
              "True"
            ]
          },
          "metadata": {
            "tags": []
          },
          "execution_count": 93
        },
        {
          "output_type": "execute_result",
          "data": {
            "text/plain": [
              "True"
            ]
          },
          "metadata": {
            "tags": []
          },
          "execution_count": 93
        },
        {
          "output_type": "execute_result",
          "data": {
            "text/plain": [
              "True"
            ]
          },
          "metadata": {
            "tags": []
          },
          "execution_count": 93
        },
        {
          "output_type": "execute_result",
          "data": {
            "text/plain": [
              "True"
            ]
          },
          "metadata": {
            "tags": []
          },
          "execution_count": 93
        },
        {
          "output_type": "execute_result",
          "data": {
            "text/plain": [
              "True"
            ]
          },
          "metadata": {
            "tags": []
          },
          "execution_count": 93
        },
        {
          "output_type": "execute_result",
          "data": {
            "text/plain": [
              "True"
            ]
          },
          "metadata": {
            "tags": []
          },
          "execution_count": 93
        },
        {
          "output_type": "execute_result",
          "data": {
            "text/plain": [
              "True"
            ]
          },
          "metadata": {
            "tags": []
          },
          "execution_count": 93
        },
        {
          "output_type": "execute_result",
          "data": {
            "text/plain": [
              "True"
            ]
          },
          "metadata": {
            "tags": []
          },
          "execution_count": 93
        },
        {
          "output_type": "execute_result",
          "data": {
            "text/plain": [
              "True"
            ]
          },
          "metadata": {
            "tags": []
          },
          "execution_count": 93
        },
        {
          "output_type": "execute_result",
          "data": {
            "text/plain": [
              "True"
            ]
          },
          "metadata": {
            "tags": []
          },
          "execution_count": 93
        },
        {
          "output_type": "execute_result",
          "data": {
            "text/plain": [
              "True"
            ]
          },
          "metadata": {
            "tags": []
          },
          "execution_count": 93
        },
        {
          "output_type": "execute_result",
          "data": {
            "text/plain": [
              "True"
            ]
          },
          "metadata": {
            "tags": []
          },
          "execution_count": 93
        },
        {
          "output_type": "execute_result",
          "data": {
            "text/plain": [
              "True"
            ]
          },
          "metadata": {
            "tags": []
          },
          "execution_count": 93
        },
        {
          "output_type": "execute_result",
          "data": {
            "text/plain": [
              "True"
            ]
          },
          "metadata": {
            "tags": []
          },
          "execution_count": 93
        },
        {
          "output_type": "execute_result",
          "data": {
            "text/plain": [
              "True"
            ]
          },
          "metadata": {
            "tags": []
          },
          "execution_count": 93
        },
        {
          "output_type": "execute_result",
          "data": {
            "text/plain": [
              "True"
            ]
          },
          "metadata": {
            "tags": []
          },
          "execution_count": 93
        },
        {
          "output_type": "execute_result",
          "data": {
            "text/plain": [
              "True"
            ]
          },
          "metadata": {
            "tags": []
          },
          "execution_count": 93
        },
        {
          "output_type": "execute_result",
          "data": {
            "text/plain": [
              "True"
            ]
          },
          "metadata": {
            "tags": []
          },
          "execution_count": 93
        },
        {
          "output_type": "execute_result",
          "data": {
            "text/plain": [
              "True"
            ]
          },
          "metadata": {
            "tags": []
          },
          "execution_count": 93
        },
        {
          "output_type": "execute_result",
          "data": {
            "text/plain": [
              "True"
            ]
          },
          "metadata": {
            "tags": []
          },
          "execution_count": 93
        },
        {
          "output_type": "execute_result",
          "data": {
            "text/plain": [
              "True"
            ]
          },
          "metadata": {
            "tags": []
          },
          "execution_count": 93
        },
        {
          "output_type": "execute_result",
          "data": {
            "text/plain": [
              "True"
            ]
          },
          "metadata": {
            "tags": []
          },
          "execution_count": 93
        },
        {
          "output_type": "execute_result",
          "data": {
            "text/plain": [
              "True"
            ]
          },
          "metadata": {
            "tags": []
          },
          "execution_count": 93
        },
        {
          "output_type": "execute_result",
          "data": {
            "text/plain": [
              "True"
            ]
          },
          "metadata": {
            "tags": []
          },
          "execution_count": 93
        },
        {
          "output_type": "execute_result",
          "data": {
            "text/plain": [
              "True"
            ]
          },
          "metadata": {
            "tags": []
          },
          "execution_count": 93
        },
        {
          "output_type": "execute_result",
          "data": {
            "text/plain": [
              "True"
            ]
          },
          "metadata": {
            "tags": []
          },
          "execution_count": 93
        },
        {
          "output_type": "execute_result",
          "data": {
            "text/plain": [
              "True"
            ]
          },
          "metadata": {
            "tags": []
          },
          "execution_count": 93
        },
        {
          "output_type": "execute_result",
          "data": {
            "text/plain": [
              "True"
            ]
          },
          "metadata": {
            "tags": []
          },
          "execution_count": 93
        },
        {
          "output_type": "execute_result",
          "data": {
            "text/plain": [
              "True"
            ]
          },
          "metadata": {
            "tags": []
          },
          "execution_count": 93
        },
        {
          "output_type": "execute_result",
          "data": {
            "text/plain": [
              "True"
            ]
          },
          "metadata": {
            "tags": []
          },
          "execution_count": 93
        },
        {
          "output_type": "execute_result",
          "data": {
            "text/plain": [
              "True"
            ]
          },
          "metadata": {
            "tags": []
          },
          "execution_count": 93
        },
        {
          "output_type": "execute_result",
          "data": {
            "text/plain": [
              "True"
            ]
          },
          "metadata": {
            "tags": []
          },
          "execution_count": 93
        },
        {
          "output_type": "execute_result",
          "data": {
            "text/plain": [
              "True"
            ]
          },
          "metadata": {
            "tags": []
          },
          "execution_count": 93
        },
        {
          "output_type": "execute_result",
          "data": {
            "text/plain": [
              "True"
            ]
          },
          "metadata": {
            "tags": []
          },
          "execution_count": 93
        },
        {
          "output_type": "execute_result",
          "data": {
            "text/plain": [
              "True"
            ]
          },
          "metadata": {
            "tags": []
          },
          "execution_count": 93
        },
        {
          "output_type": "execute_result",
          "data": {
            "text/plain": [
              "True"
            ]
          },
          "metadata": {
            "tags": []
          },
          "execution_count": 93
        },
        {
          "output_type": "execute_result",
          "data": {
            "text/plain": [
              "True"
            ]
          },
          "metadata": {
            "tags": []
          },
          "execution_count": 93
        },
        {
          "output_type": "execute_result",
          "data": {
            "text/plain": [
              "True"
            ]
          },
          "metadata": {
            "tags": []
          },
          "execution_count": 93
        },
        {
          "output_type": "execute_result",
          "data": {
            "text/plain": [
              "True"
            ]
          },
          "metadata": {
            "tags": []
          },
          "execution_count": 93
        },
        {
          "output_type": "execute_result",
          "data": {
            "text/plain": [
              "True"
            ]
          },
          "metadata": {
            "tags": []
          },
          "execution_count": 93
        },
        {
          "output_type": "execute_result",
          "data": {
            "text/plain": [
              "True"
            ]
          },
          "metadata": {
            "tags": []
          },
          "execution_count": 93
        },
        {
          "output_type": "execute_result",
          "data": {
            "text/plain": [
              "True"
            ]
          },
          "metadata": {
            "tags": []
          },
          "execution_count": 93
        },
        {
          "output_type": "execute_result",
          "data": {
            "text/plain": [
              "True"
            ]
          },
          "metadata": {
            "tags": []
          },
          "execution_count": 93
        },
        {
          "output_type": "execute_result",
          "data": {
            "text/plain": [
              "True"
            ]
          },
          "metadata": {
            "tags": []
          },
          "execution_count": 93
        },
        {
          "output_type": "execute_result",
          "data": {
            "text/plain": [
              "True"
            ]
          },
          "metadata": {
            "tags": []
          },
          "execution_count": 93
        },
        {
          "output_type": "execute_result",
          "data": {
            "text/plain": [
              "True"
            ]
          },
          "metadata": {
            "tags": []
          },
          "execution_count": 93
        },
        {
          "output_type": "execute_result",
          "data": {
            "text/plain": [
              "True"
            ]
          },
          "metadata": {
            "tags": []
          },
          "execution_count": 93
        },
        {
          "output_type": "execute_result",
          "data": {
            "text/plain": [
              "True"
            ]
          },
          "metadata": {
            "tags": []
          },
          "execution_count": 93
        },
        {
          "output_type": "execute_result",
          "data": {
            "text/plain": [
              "True"
            ]
          },
          "metadata": {
            "tags": []
          },
          "execution_count": 93
        },
        {
          "output_type": "execute_result",
          "data": {
            "text/plain": [
              "True"
            ]
          },
          "metadata": {
            "tags": []
          },
          "execution_count": 93
        },
        {
          "output_type": "execute_result",
          "data": {
            "text/plain": [
              "True"
            ]
          },
          "metadata": {
            "tags": []
          },
          "execution_count": 93
        },
        {
          "output_type": "execute_result",
          "data": {
            "text/plain": [
              "True"
            ]
          },
          "metadata": {
            "tags": []
          },
          "execution_count": 93
        },
        {
          "output_type": "execute_result",
          "data": {
            "text/plain": [
              "True"
            ]
          },
          "metadata": {
            "tags": []
          },
          "execution_count": 93
        },
        {
          "output_type": "execute_result",
          "data": {
            "text/plain": [
              "True"
            ]
          },
          "metadata": {
            "tags": []
          },
          "execution_count": 93
        },
        {
          "output_type": "execute_result",
          "data": {
            "text/plain": [
              "True"
            ]
          },
          "metadata": {
            "tags": []
          },
          "execution_count": 93
        },
        {
          "output_type": "execute_result",
          "data": {
            "text/plain": [
              "True"
            ]
          },
          "metadata": {
            "tags": []
          },
          "execution_count": 93
        },
        {
          "output_type": "execute_result",
          "data": {
            "text/plain": [
              "True"
            ]
          },
          "metadata": {
            "tags": []
          },
          "execution_count": 93
        },
        {
          "output_type": "execute_result",
          "data": {
            "text/plain": [
              "True"
            ]
          },
          "metadata": {
            "tags": []
          },
          "execution_count": 93
        },
        {
          "output_type": "execute_result",
          "data": {
            "text/plain": [
              "True"
            ]
          },
          "metadata": {
            "tags": []
          },
          "execution_count": 93
        },
        {
          "output_type": "execute_result",
          "data": {
            "text/plain": [
              "True"
            ]
          },
          "metadata": {
            "tags": []
          },
          "execution_count": 93
        },
        {
          "output_type": "execute_result",
          "data": {
            "text/plain": [
              "True"
            ]
          },
          "metadata": {
            "tags": []
          },
          "execution_count": 93
        },
        {
          "output_type": "execute_result",
          "data": {
            "text/plain": [
              "True"
            ]
          },
          "metadata": {
            "tags": []
          },
          "execution_count": 93
        },
        {
          "output_type": "execute_result",
          "data": {
            "text/plain": [
              "True"
            ]
          },
          "metadata": {
            "tags": []
          },
          "execution_count": 93
        },
        {
          "output_type": "execute_result",
          "data": {
            "text/plain": [
              "True"
            ]
          },
          "metadata": {
            "tags": []
          },
          "execution_count": 93
        },
        {
          "output_type": "execute_result",
          "data": {
            "text/plain": [
              "True"
            ]
          },
          "metadata": {
            "tags": []
          },
          "execution_count": 93
        },
        {
          "output_type": "execute_result",
          "data": {
            "text/plain": [
              "True"
            ]
          },
          "metadata": {
            "tags": []
          },
          "execution_count": 93
        },
        {
          "output_type": "execute_result",
          "data": {
            "text/plain": [
              "True"
            ]
          },
          "metadata": {
            "tags": []
          },
          "execution_count": 93
        },
        {
          "output_type": "execute_result",
          "data": {
            "text/plain": [
              "True"
            ]
          },
          "metadata": {
            "tags": []
          },
          "execution_count": 93
        },
        {
          "output_type": "execute_result",
          "data": {
            "text/plain": [
              "True"
            ]
          },
          "metadata": {
            "tags": []
          },
          "execution_count": 93
        },
        {
          "output_type": "execute_result",
          "data": {
            "text/plain": [
              "True"
            ]
          },
          "metadata": {
            "tags": []
          },
          "execution_count": 93
        },
        {
          "output_type": "execute_result",
          "data": {
            "text/plain": [
              "True"
            ]
          },
          "metadata": {
            "tags": []
          },
          "execution_count": 93
        },
        {
          "output_type": "execute_result",
          "data": {
            "text/plain": [
              "True"
            ]
          },
          "metadata": {
            "tags": []
          },
          "execution_count": 93
        },
        {
          "output_type": "execute_result",
          "data": {
            "text/plain": [
              "True"
            ]
          },
          "metadata": {
            "tags": []
          },
          "execution_count": 93
        },
        {
          "output_type": "execute_result",
          "data": {
            "text/plain": [
              "True"
            ]
          },
          "metadata": {
            "tags": []
          },
          "execution_count": 93
        },
        {
          "output_type": "execute_result",
          "data": {
            "text/plain": [
              "True"
            ]
          },
          "metadata": {
            "tags": []
          },
          "execution_count": 93
        },
        {
          "output_type": "execute_result",
          "data": {
            "text/plain": [
              "True"
            ]
          },
          "metadata": {
            "tags": []
          },
          "execution_count": 93
        },
        {
          "output_type": "execute_result",
          "data": {
            "text/plain": [
              "True"
            ]
          },
          "metadata": {
            "tags": []
          },
          "execution_count": 93
        },
        {
          "output_type": "execute_result",
          "data": {
            "text/plain": [
              "True"
            ]
          },
          "metadata": {
            "tags": []
          },
          "execution_count": 93
        },
        {
          "output_type": "execute_result",
          "data": {
            "text/plain": [
              "True"
            ]
          },
          "metadata": {
            "tags": []
          },
          "execution_count": 93
        },
        {
          "output_type": "execute_result",
          "data": {
            "text/plain": [
              "True"
            ]
          },
          "metadata": {
            "tags": []
          },
          "execution_count": 93
        },
        {
          "output_type": "execute_result",
          "data": {
            "text/plain": [
              "True"
            ]
          },
          "metadata": {
            "tags": []
          },
          "execution_count": 93
        },
        {
          "output_type": "execute_result",
          "data": {
            "text/plain": [
              "True"
            ]
          },
          "metadata": {
            "tags": []
          },
          "execution_count": 93
        },
        {
          "output_type": "execute_result",
          "data": {
            "text/plain": [
              "True"
            ]
          },
          "metadata": {
            "tags": []
          },
          "execution_count": 93
        },
        {
          "output_type": "execute_result",
          "data": {
            "text/plain": [
              "True"
            ]
          },
          "metadata": {
            "tags": []
          },
          "execution_count": 93
        },
        {
          "output_type": "execute_result",
          "data": {
            "text/plain": [
              "True"
            ]
          },
          "metadata": {
            "tags": []
          },
          "execution_count": 93
        },
        {
          "output_type": "execute_result",
          "data": {
            "text/plain": [
              "True"
            ]
          },
          "metadata": {
            "tags": []
          },
          "execution_count": 93
        },
        {
          "output_type": "execute_result",
          "data": {
            "text/plain": [
              "True"
            ]
          },
          "metadata": {
            "tags": []
          },
          "execution_count": 93
        },
        {
          "output_type": "execute_result",
          "data": {
            "text/plain": [
              "True"
            ]
          },
          "metadata": {
            "tags": []
          },
          "execution_count": 93
        },
        {
          "output_type": "execute_result",
          "data": {
            "text/plain": [
              "True"
            ]
          },
          "metadata": {
            "tags": []
          },
          "execution_count": 93
        },
        {
          "output_type": "execute_result",
          "data": {
            "text/plain": [
              "True"
            ]
          },
          "metadata": {
            "tags": []
          },
          "execution_count": 93
        },
        {
          "output_type": "execute_result",
          "data": {
            "text/plain": [
              "True"
            ]
          },
          "metadata": {
            "tags": []
          },
          "execution_count": 93
        },
        {
          "output_type": "execute_result",
          "data": {
            "text/plain": [
              "True"
            ]
          },
          "metadata": {
            "tags": []
          },
          "execution_count": 93
        },
        {
          "output_type": "execute_result",
          "data": {
            "text/plain": [
              "True"
            ]
          },
          "metadata": {
            "tags": []
          },
          "execution_count": 93
        },
        {
          "output_type": "execute_result",
          "data": {
            "text/plain": [
              "True"
            ]
          },
          "metadata": {
            "tags": []
          },
          "execution_count": 93
        },
        {
          "output_type": "execute_result",
          "data": {
            "text/plain": [
              "True"
            ]
          },
          "metadata": {
            "tags": []
          },
          "execution_count": 93
        },
        {
          "output_type": "execute_result",
          "data": {
            "text/plain": [
              "True"
            ]
          },
          "metadata": {
            "tags": []
          },
          "execution_count": 93
        },
        {
          "output_type": "execute_result",
          "data": {
            "text/plain": [
              "True"
            ]
          },
          "metadata": {
            "tags": []
          },
          "execution_count": 93
        },
        {
          "output_type": "execute_result",
          "data": {
            "text/plain": [
              "True"
            ]
          },
          "metadata": {
            "tags": []
          },
          "execution_count": 93
        },
        {
          "output_type": "execute_result",
          "data": {
            "text/plain": [
              "True"
            ]
          },
          "metadata": {
            "tags": []
          },
          "execution_count": 93
        },
        {
          "output_type": "execute_result",
          "data": {
            "text/plain": [
              "True"
            ]
          },
          "metadata": {
            "tags": []
          },
          "execution_count": 93
        },
        {
          "output_type": "execute_result",
          "data": {
            "text/plain": [
              "True"
            ]
          },
          "metadata": {
            "tags": []
          },
          "execution_count": 93
        },
        {
          "output_type": "execute_result",
          "data": {
            "text/plain": [
              "True"
            ]
          },
          "metadata": {
            "tags": []
          },
          "execution_count": 93
        },
        {
          "output_type": "execute_result",
          "data": {
            "text/plain": [
              "True"
            ]
          },
          "metadata": {
            "tags": []
          },
          "execution_count": 93
        },
        {
          "output_type": "execute_result",
          "data": {
            "text/plain": [
              "True"
            ]
          },
          "metadata": {
            "tags": []
          },
          "execution_count": 93
        },
        {
          "output_type": "execute_result",
          "data": {
            "text/plain": [
              "True"
            ]
          },
          "metadata": {
            "tags": []
          },
          "execution_count": 93
        },
        {
          "output_type": "execute_result",
          "data": {
            "text/plain": [
              "True"
            ]
          },
          "metadata": {
            "tags": []
          },
          "execution_count": 93
        },
        {
          "output_type": "execute_result",
          "data": {
            "text/plain": [
              "True"
            ]
          },
          "metadata": {
            "tags": []
          },
          "execution_count": 93
        },
        {
          "output_type": "execute_result",
          "data": {
            "text/plain": [
              "True"
            ]
          },
          "metadata": {
            "tags": []
          },
          "execution_count": 93
        }
      ]
    },
    {
      "cell_type": "code",
      "metadata": {
        "id": "CNDDJx2uv9z1"
      },
      "source": [
        "##### load predicted sequences \n",
        "#sequences_pred = load_predictions(predicted_sequences)"
      ],
      "execution_count": null,
      "outputs": []
    },
    {
      "cell_type": "code",
      "metadata": {
        "colab": {
          "base_uri": "https://localhost:8080/"
        },
        "id": "ZZsAi0jUv9z2",
        "outputId": "c2ed429d-26ad-4628-b282-e1e6e93682e5"
      },
      "source": [
        "sequences_pred = predicted_sequences*255\n",
        "sequences_pred.shape"
      ],
      "execution_count": null,
      "outputs": [
        {
          "output_type": "execute_result",
          "data": {
            "text/plain": [
              "(20, 10, 256, 256, 1)"
            ]
          },
          "metadata": {
            "tags": []
          },
          "execution_count": 95
        }
      ]
    },
    {
      "cell_type": "code",
      "metadata": {
        "id": "bnz0jOoJv9z3"
      },
      "source": [
        "test = get_single_test_MD(number)"
      ],
      "execution_count": null,
      "outputs": []
    },
    {
      "cell_type": "code",
      "metadata": {
        "colab": {
          "base_uri": "https://localhost:8080/"
        },
        "id": "XiVeUaeyv9z4",
        "outputId": "55835f47-c43d-4c03-bf64-1cc49c63df8b"
      },
      "source": [
        "sequences = make_sequences(test*255)\n",
        "sequences.shape"
      ],
      "execution_count": null,
      "outputs": [
        {
          "output_type": "execute_result",
          "data": {
            "text/plain": [
              "(20, 10, 256, 256, 3)"
            ]
          },
          "metadata": {
            "tags": []
          },
          "execution_count": 97
        }
      ]
    },
    {
      "cell_type": "code",
      "metadata": {
        "colab": {
          "base_uri": "https://localhost:8080/"
        },
        "id": "vz6fDB8Mv9z5",
        "outputId": "06ca0346-c8bc-4b82-fa79-c5781cb5e800"
      },
      "source": [
        "newarr=[]\n",
        "import pandas as pd\n",
        "col_list=[\"sa\"]\n",
        "saa = pd.read_csv('/content/drive/MyDrive/prediction/ped1/Test024/sa.csv',usecols=col_list)\n",
        "print(saa.shape[0])\n",
        "for i in range(saa.shape[0]):\n",
        "  newarr.append(float(saa.iloc[i].to_string().split()[1]))\n",
        "print(newarr)\n",
        "print(type(newarr[0]))\n",
        "\n",
        "\n"
      ],
      "execution_count": null,
      "outputs": [
        {
          "output_type": "stream",
          "text": [
            "20\n",
            "[0.124453, 0.124032, 0.123108, 0.129119, 0.152561, 0.172722, 0.184843, 0.20413, 0.208166, 0.219337, 0.222866, 0.225689, 0.253926, 0.265602, 0.273036, 0.337907, 0.285401, 0.009284, 0.005121, 0.0]\n",
            "<class 'float'>\n"
          ],
          "name": "stdout"
        }
      ]
    },
    {
      "cell_type": "code",
      "metadata": {
        "colab": {
          "base_uri": "https://localhost:8080/"
        },
        "id": "nJxTzANDv9z6",
        "outputId": "0c730aa4-9560-4bd6-9d4e-f3e545a51e58"
      },
      "source": [
        "predictions=predict_gt_motionDetect(sequences_pred,newarr,number)"
      ],
      "execution_count": null,
      "outputs": [
        {
          "output_type": "stream",
          "text": [
            "0.1689535\n"
          ],
          "name": "stdout"
        }
      ]
    },
    {
      "cell_type": "markdown",
      "metadata": {
        "id": "WqYuhEM_mpP2"
      },
      "source": [
        "# Test\n"
      ]
    },
    {
      "cell_type": "code",
      "metadata": {
        "id": "yguRvHVusbMi"
      },
      "source": [
        "def predict_gt_motionDetect(reconstructed_sequences, sa,number):\n",
        "    \n",
        "    threshold_anomaly =np.max(sa)/2\n",
        "    #print(threshold_anomaly)\n",
        "    test_reshaped = sequences\n",
        "    frames = []\n",
        "    threshs=[]\n",
        "    framedeltas = []\n",
        "    anomalies = []\n",
        "    original_frame = []\n",
        "    firstFrame = None\n",
        "    #cols_list=[0,1]\n",
        "    #pd.read_csv('/content/drive/MyDrive/prediction/ped1/Test024/sa.csv', usecols=cols_list)\n",
        "    for i in range(reconstructed_sequences.shape[0]):\n",
        "        #print(sa.iloc[i])\n",
        "        #i['var1'].iloc[0]\n",
        "\n",
        "        # print(type(sa))\n",
        "        # print(type(sa(0)))\n",
        "        # print(type(threshold_anomaly))\n",
        "        if (sa[i]<threshold_anomaly):\n",
        "\n",
        "            #print(\"hello\")\n",
        "            text = \"Normal\"\n",
        "            for j in range(LENGTH_SEQUENCE):  \n",
        "                anomaly = np.zeros(shape=[IMAGE_SIZE[0],IMAGE_SIZE[1], 3], dtype=np.uint8)\n",
        "                thresh = np.zeros(shape=[IMAGE_SIZE[0],IMAGE_SIZE[1], 3], dtype=np.uint8)\n",
        "                frameDelta = np.zeros(shape=[IMAGE_SIZE[0],IMAGE_SIZE[1], 3], dtype=np.uint8)\n",
        "                cv2.imwrite('image.png', reconstructed_sequences[i,j,:,:,:])\n",
        "                image = cv2.imread('image.png') \n",
        "                frame_test = np.array(test_reshaped[i,j,:,:,:],dtype=np.uint8)\n",
        "                frame_predicted = np.array(image,dtype=np.uint8)      \n",
        "                frame = cv2.absdiff(frame_test,frame_predicted)\n",
        "                frame = cv2.GaussianBlur(frame, (5, 5), 0)           \n",
        "                frame = imutils.resize(frame, width=500)\n",
        "                anomaly= imutils.resize(anomaly, width=500)\n",
        "                frame_test= imutils.resize(frame_test, width=500)\n",
        "                cv2.putText(frame, \"Status: {}\".format(text), (10, 20),\n",
        "                        cv2.FONT_HERSHEY_SIMPLEX, 0.5, (255, 0, 0), 2)\n",
        "                cv2.putText(frame_test, \"Status: {}\".format(text), (10, 20),\n",
        "                        cv2.FONT_HERSHEY_SIMPLEX, 0.5, (255, 0, 0), 2)\n",
        "                frames.append(frame)\n",
        "                anomalies.append(anomaly)\n",
        "                original_frame.append(frame_test)\n",
        "                threshs.append(thresh)\n",
        "                framedeltas.append(frameDelta)\n",
        "            firstFrame = None\n",
        "        \n",
        "        else:\n",
        "            #print(\"else hello\")\n",
        "            #firstFrame = None\n",
        "            cnt=0\n",
        "            for k in range(LENGTH_SEQUENCE):\n",
        "                \n",
        "                text = \"Normal\"\n",
        "                anomaly = np.zeros(shape=[IMAGE_SIZE[0],IMAGE_SIZE[1], 3], dtype=np.uint8)\n",
        "                frame_test = np.array(test_reshaped[i,k,:,:,:],dtype=np.uint8)\n",
        "                #########################\n",
        "                cv2.imwrite('image.png', reconstructed_sequences[i,k,:,:,:])\n",
        "                            #*255)\n",
        "                image = cv2.imread('image.png')\n",
        "                ###########################\n",
        "                frame_predicted = np.array(image,dtype=np.uint8)      \n",
        "                frame = cv2.absdiff(frame_test,frame_predicted)\n",
        "                frame = cv2.GaussianBlur(frame, (5, 5), 0)           \n",
        "                frame = imutils.resize(frame, width=500)\n",
        "                anomaly= imutils.resize(anomaly, width=500)\n",
        "                frame_test= imutils.resize(frame_test, width=500)\n",
        "                \n",
        "                gray = cv2.cvtColor(frame, cv2.COLOR_BGR2GRAY)\n",
        "                gray = cv2.GaussianBlur(gray, (21, 21), 0)\n",
        "\n",
        "                if firstFrame is None:\n",
        "                    firstFrame = gray\n",
        "                \n",
        "                frameDelta = cv2.absdiff(firstFrame, gray)   \n",
        "                thresh = cv2.threshold(frameDelta, 29, 255, cv2.THRESH_BINARY)[1]\n",
        "            \n",
        "                thresh = cv2.dilate(thresh, None, iterations=2)\n",
        "                cnts = cv2.findContours(thresh.copy(), cv2.RETR_EXTERNAL,\n",
        "                        cv2.CHAIN_APPROX_SIMPLE)\n",
        "                cnts = imutils.grab_contours(cnts)\n",
        "            \n",
        "                for c in cnts:\n",
        "                    if cv2.contourArea(c) < 500:\n",
        "                        continue\n",
        "                \n",
        "                    (x, y, w, h) = cv2.boundingRect(c)\n",
        "                    cv2.rectangle(frame, (x, y), (x + w, y + h), (0, 255, 0), 2)\n",
        "                    cv2.rectangle(anomaly, (x, y), (x + w, y + h), (255, 255, 255), -1)\n",
        "                    cv2.rectangle(frame_test, (x, y), (x + w, y + h), (0, 255, 0), 2)\n",
        "                    text = \"Anomaly detected\"\n",
        "            \n",
        "            \n",
        "                cv2.putText(frame, \"Status: {}\".format(text), (10, 20),\n",
        "                        cv2.FONT_HERSHEY_SIMPLEX, 0.5, (255, 0, 0), 2)\n",
        "                cv2.putText(frame_test, \"Status: {}\".format(text), (10, 20),\n",
        "                        cv2.FONT_HERSHEY_SIMPLEX, 0.5, (255, 0, 0), 2)\n",
        "                \n",
        "                frames.append(frame)\n",
        "                threshs.append(thresh)\n",
        "                framedeltas.append(frameDelta)\n",
        "                anomalies.append(anomaly)\n",
        "                original_frame.append(frame_test)\n",
        "    \n",
        "    path = '/content/drive/MyDrive/motion_detection/Ped1/Test'+str(number).zfill(3)+'/'\n",
        "    os.makedirs(os.path.dirname(path), exist_ok=True)            \n",
        "    imageio.mimsave(path+'frames.gif', [frames[idx] for idx in range(len(frames))], fps=1)\n",
        "    imageio.mimsave(path+'frames threshs.gif', [threshs[idx] for idx in range(len(threshs))], fps=1)\n",
        "    imageio.mimsave(path+'frames deltas.gif', [framedeltas[idx] for idx in range(len(framedeltas))], fps=1)\n",
        "    imageio.mimsave(path+'gt_predicted.gif', [anomalies[idx] for idx in range(len(anomalies))], fps=1)\n",
        "    imageio.mimsave(path+'original_frame.gif', [original_frame[idx] for idx in range(len(original_frame))], fps=1)\n",
        "    return(anomalies)\n"
      ],
      "execution_count": null,
      "outputs": []
    },
    {
      "cell_type": "code",
      "metadata": {
        "id": "1I8d4T1sTxrC"
      },
      "source": [
        "number = 24"
      ],
      "execution_count": null,
      "outputs": []
    },
    {
      "cell_type": "code",
      "metadata": {
        "id": "ixyYcCUgTxrC"
      },
      "source": [
        "test = get_single_test(number)\n"
      ],
      "execution_count": null,
      "outputs": []
    },
    {
      "cell_type": "code",
      "metadata": {
        "id": "gqnM9VvwTxrD",
        "colab": {
          "base_uri": "https://localhost:8080/",
          "height": 331
        },
        "outputId": "7f9694e5-3f53-4bda-ba95-3614ec7a0c97"
      },
      "source": [
        "predicted_sequences, sa= predict_test()"
      ],
      "execution_count": null,
      "outputs": [
        {
          "output_type": "stream",
          "text": [
            "got model\n",
            "(200, 256, 256, 1)\n",
            "got data\n"
          ],
          "name": "stdout"
        },
        {
          "output_type": "display_data",
          "data": {
            "image/png": "[encoded data removed]",
            "text/plain": [
              "<Figure size 432x288 with 1 Axes>"
            ]
          },
          "metadata": {
            "tags": [],
            "needs_background": "light"
          }
        }
      ]
    },
    {
      "cell_type": "code",
      "metadata": {
        "id": "4N2eBmLrTxrD",
        "colab": {
          "base_uri": "https://localhost:8080/"
        },
        "outputId": "70892b9a-26eb-4926-a352-993dd1d91005"
      },
      "source": [
        "sequences_pred = predicted_sequences*255\n",
        "sequences_pred.shape"
      ],
      "execution_count": null,
      "outputs": [
        {
          "output_type": "execute_result",
          "data": {
            "text/plain": [
              "(20, 10, 256, 256, 1)"
            ]
          },
          "metadata": {
            "tags": []
          },
          "execution_count": 185
        }
      ]
    },
    {
      "cell_type": "code",
      "metadata": {
        "id": "6Puh71NxTxrE"
      },
      "source": [
        "test = get_single_test_MD(number)"
      ],
      "execution_count": null,
      "outputs": []
    },
    {
      "cell_type": "code",
      "metadata": {
        "id": "3fZ2m1nKTxrF",
        "colab": {
          "base_uri": "https://localhost:8080/"
        },
        "outputId": "91ebf915-e257-405d-cbb9-10e172627cb9"
      },
      "source": [
        "sequences = make_sequences(test*255)\n",
        "sequences.shape"
      ],
      "execution_count": null,
      "outputs": [
        {
          "output_type": "execute_result",
          "data": {
            "text/plain": [
              "(20, 10, 256, 256, 3)"
            ]
          },
          "metadata": {
            "tags": []
          },
          "execution_count": 187
        }
      ]
    },
    {
      "cell_type": "code",
      "metadata": {
        "id": "A8RILQTtTxrF"
      },
      "source": [
        "predictions =predict_gt_motionDetect(sequences_pred,sa,number)"
      ],
      "execution_count": null,
      "outputs": []
    },
    {
      "cell_type": "markdown",
      "metadata": {
        "id": "JpD8fG8DTxrH"
      },
      "source": [
        "# Test on Peds2"
      ]
    },
    {
      "cell_type": "code",
      "metadata": {
        "id": "QoBg6aC-TxrH"
      },
      "source": [
        "DATASET_PATH1 =\"UCSD_Anomaly_Dataset/UCSD_Anomaly_Dataset.v1p2/UCSDped2/Train\"\n",
        "\n",
        "TEST_PATH1 =\"UCSD_Anomaly_Dataset/UCSD_Anomaly_Dataset.v1p2/UCSDped2/Test\" \n",
        "\n",
        "MODEL_PATH = './model/model_lstm_1datasets_diff_arch_256_nomax_peds2_2.hdf5'"
      ],
      "execution_count": null,
      "outputs": []
    },
    {
      "cell_type": "code",
      "metadata": {
        "id": "zYakznvGTxrI"
      },
      "source": [
        "def get_training_set():\n",
        "    files1 = sorted(glob.glob(DATASET_PATH2+'/*'))\n",
        "    \n",
        "    train_set = []\n",
        "    for idx, filename in enumerate(files1):\n",
        "        train_files = sorted(glob.glob(filename+'/*'))\n",
        "        for idx_frame,file_frame in enumerate(train_files):\n",
        "            im = Image.open(file_frame)\n",
        "            im = im.resize((IMAGE_SIZE[0],IMAGE_SIZE[1])) #resize 256, 256 \n",
        "            train_set.append(np.array(im, dtype=np.float32)/np.float(IMAGE_SIZE[0]))\n",
        "    train = np.asarray(train_set)\n",
        "    train = np.reshape(train,((-1,256,256,1)))\n",
        "    \n",
        "    seq1 = make_sequences(train) ##num sequence 10\n",
        "   \n",
        "    return(seq1)"
      ],
      "execution_count": null,
      "outputs": []
    },
    {
      "cell_type": "code",
      "metadata": {
        "id": "ODHWBr07TxrI"
      },
      "source": [
        "number = 2"
      ],
      "execution_count": null,
      "outputs": []
    },
    {
      "cell_type": "code",
      "metadata": {
        "id": "cy2y8aoeTxrJ"
      },
      "source": [
        "test = get_single_test(number)\n"
      ],
      "execution_count": null,
      "outputs": []
    },
    {
      "cell_type": "code",
      "metadata": {
        "id": "64w52woaTxrJ",
        "outputId": "349c3346-691d-422b-907a-ae39c70fa9b6"
      },
      "source": [
        "predicted_sequences, sa= predict_test()"
      ],
      "execution_count": null,
      "outputs": [
        {
          "output_type": "stream",
          "text": [
            "got model\n",
            "(180, 256, 256, 1)\n",
            "got data\n"
          ],
          "name": "stdout"
        },
        {
          "output_type": "display_data",
          "data": {
            "image/png": "[encoded data removed]",
            "text/plain": [
              "<Figure size 432x288 with 1 Axes>"
            ]
          },
          "metadata": {
            "tags": [],
            "needs_background": "light"
          }
        }
      ]
    },
    {
      "cell_type": "code",
      "metadata": {
        "id": "fyLRUoOyTxrK"
      },
      "source": [
        "def predict_gt_motionDetect(reconstructed_sequences, sa,number):\n",
        "    \n",
        "    threshold_anomaly =np.max(sa)/2\n",
        "    test_reshaped = sequences\n",
        "    frames = []\n",
        "    threshs=[]\n",
        "    framedeltas = []\n",
        "    anomalies = []\n",
        "    original_frame = []\n",
        "    firstFrame = None\n",
        "    for i in range(reconstructed_sequences.shape[0]):\n",
        "        \n",
        "        if sa[i]<threshold_anomaly:\n",
        "            text = \"Normal\"\n",
        "            for j in range(LENGTH_SEQUENCE):  \n",
        "                anomaly = np.zeros(shape=[IMAGE_SIZE[0],IMAGE_SIZE[1], 3], dtype=np.uint8)\n",
        "                thresh = np.zeros(shape=[IMAGE_SIZE[0],IMAGE_SIZE[1], 3], dtype=np.uint8)\n",
        "                frameDelta = np.zeros(shape=[IMAGE_SIZE[0],IMAGE_SIZE[1], 3], dtype=np.uint8)\n",
        "                cv2.imwrite('image.png', reconstructed_sequences[i,j,:,:,:])\n",
        "                image = cv2.imread('image.png') \n",
        "                frame_test = np.array(test_reshaped[i,j,:,:,:],dtype=np.uint8)\n",
        "                frame_predicted = np.array(image,dtype=np.uint8)      \n",
        "                frame = cv2.absdiff(frame_test,frame_predicted)\n",
        "                frame = cv2.GaussianBlur(frame, (5, 5), 0)           \n",
        "                frame = imutils.resize(frame, width=500)\n",
        "                anomaly= imutils.resize(anomaly, width=500)\n",
        "                frame_test= imutils.resize(frame_test, width=500)\n",
        "                cv2.putText(frame, \"Status: {}\".format(text), (10, 20),\n",
        "                        cv2.FONT_HERSHEY_SIMPLEX, 0.5, (255, 0, 0), 2)\n",
        "                cv2.putText(frame_test, \"Status: {}\".format(text), (10, 20),\n",
        "                        cv2.FONT_HERSHEY_SIMPLEX, 0.5, (255, 0, 0), 2)\n",
        "                frames.append(frame)\n",
        "                anomalies.append(anomaly)\n",
        "                original_frame.append(frame_test)\n",
        "                threshs.append(thresh)\n",
        "                framedeltas.append(frameDelta)\n",
        "            firstFrame = None\n",
        "        \n",
        "        else:\n",
        "            #firstFrame = None\n",
        "            cnt=0\n",
        "            for k in range(LENGTH_SEQUENCE):\n",
        "                \n",
        "                text = \"Normal\"\n",
        "                anomaly = np.zeros(shape=[IMAGE_SIZE[0],IMAGE_SIZE[1], 3], dtype=np.uint8)\n",
        "                frame_test = np.array(test_reshaped[i,k,:,:,:],dtype=np.uint8)\n",
        "                #########################\n",
        "                cv2.imwrite('image.png', reconstructed_sequences[i,k,:,:,:])\n",
        "                            #*255)\n",
        "                image = cv2.imread('image.png')\n",
        "                ###########################\n",
        "                frame_predicted = np.array(image,dtype=np.uint8)      \n",
        "                frame = cv2.absdiff(frame_test,frame_predicted)\n",
        "                frame = cv2.GaussianBlur(frame, (5, 5), 0)           \n",
        "                frame = imutils.resize(frame, width=500)\n",
        "                anomaly= imutils.resize(anomaly, width=500)\n",
        "                frame_test= imutils.resize(frame_test, width=500)\n",
        "                \n",
        "                gray = cv2.cvtColor(frame, cv2.COLOR_BGR2GRAY)\n",
        "                gray = cv2.GaussianBlur(gray, (21, 21), 0)\n",
        "\n",
        "                if firstFrame is None:\n",
        "                    firstFrame = gray\n",
        "                \n",
        "                frameDelta = cv2.absdiff(firstFrame, gray)   \n",
        "                thresh = cv2.threshold(frameDelta, 50, 255, cv2.THRESH_BINARY)[1]\n",
        "            \n",
        "                thresh = cv2.dilate(thresh, None, iterations=2)\n",
        "                cnts = cv2.findContours(thresh.copy(), cv2.RETR_EXTERNAL,\n",
        "                        cv2.CHAIN_APPROX_SIMPLE)\n",
        "                cnts = imutils.grab_contours(cnts)\n",
        "            \n",
        "                for c in cnts:\n",
        "                    if cv2.contourArea(c) < 250:\n",
        "                        continue\n",
        "                \n",
        "                    (x, y, w, h) = cv2.boundingRect(c)\n",
        "                    cv2.rectangle(frame, (x, y), (x + w, y + h), (0, 255, 0), 2)\n",
        "                    cv2.rectangle(anomaly, (x, y), (x + w, y + h), (255, 255, 255), -1)\n",
        "                    cv2.rectangle(frame_test, (x, y), (x + w, y + h), (0, 255, 0), 2)\n",
        "                    text = \"Anomaly detected\"\n",
        "            \n",
        "            \n",
        "                cv2.putText(frame, \"Status: {}\".format(text), (10, 20),\n",
        "                        cv2.FONT_HERSHEY_SIMPLEX, 0.5, (255, 0, 0), 2)\n",
        "                cv2.putText(frame_test, \"Status: {}\".format(text), (10, 20),\n",
        "                        cv2.FONT_HERSHEY_SIMPLEX, 0.5, (255, 0, 0), 2)\n",
        "                \n",
        "                frames.append(frame)\n",
        "                threshs.append(thresh)\n",
        "                framedeltas.append(frameDelta)\n",
        "                anomalies.append(anomaly)\n",
        "                original_frame.append(frame_test)\n",
        "    \n",
        "    path = './motion detection/Peds2/Test'+str(number).zfill(3)+'/'\n",
        "    os.makedirs(os.path.dirname(path), exist_ok=True)            \n",
        "    imageio.mimsave(path+'frames.gif', [frames[idx] for idx in range(len(frames))], fps=1)\n",
        "    imageio.mimsave(path+'frames threshs.gif', [threshs[idx] for idx in range(len(threshs))], fps=1)\n",
        "    imageio.mimsave(path+'frames deltas.gif', [framedeltas[idx] for idx in range(len(framedeltas))], fps=1)\n",
        "    imageio.mimsave(path+'gt_predicted.gif', [anomalies[idx] for idx in range(len(anomalies))], fps=1)\n",
        "    imageio.mimsave(path+'original_frame.gif', [original_frame[idx] for idx in range(len(original_frame))], fps=1)\n",
        "    return(anomalies)\n",
        "                "
      ],
      "execution_count": null,
      "outputs": []
    },
    {
      "cell_type": "code",
      "metadata": {
        "id": "ZVZ7lhsdTxrK"
      },
      "source": [
        "#### Save the predicted seqeunces \n",
        "reshaped = np.reshape(predicted_sequences, ((predicted_sequences.shape[0]*LENGTH_SEQUENCE,IMAGE_SIZE[0],IMAGE_SIZE[1],1)))\n",
        "for i in range(180):\n",
        "    path = './predictions/Peds2/Test'+str(number).zfill(3)+'/'+str(i+1).zfill(3)+'.png'\n",
        "    os.makedirs(os.path.dirname(path), exist_ok=True)\n",
        "    cv2.imwrite(path, reshaped[i,:,:,0]*255)\n",
        "\n",
        "sa = pd.DataFrame(sa, columns=['sa'])\n",
        "path = './predictions/Peds2/Test'+str(number).zfill(3)+'/sa.csv'\n",
        "os.makedirs(os.path.dirname(path), exist_ok=True)\n",
        "sa.to_csv(path)\n",
        "sa = np.array(sa)"
      ],
      "execution_count": null,
      "outputs": []
    },
    {
      "cell_type": "code",
      "metadata": {
        "id": "A2rW9ya0TxrL",
        "outputId": "4888a194-ffa1-4aee-9f10-671e0eebb0b9"
      },
      "source": [
        "sequences_pred = predicted_sequences*255\n",
        "sequences_pred.shape"
      ],
      "execution_count": null,
      "outputs": [
        {
          "output_type": "execute_result",
          "data": {
            "text/plain": [
              "(18, 10, 256, 256, 1)"
            ]
          },
          "metadata": {
            "tags": []
          },
          "execution_count": 214
        }
      ]
    },
    {
      "cell_type": "code",
      "metadata": {
        "id": "yYassdN-TxrL"
      },
      "source": [
        "test = get_single_test_MD(number)"
      ],
      "execution_count": null,
      "outputs": []
    },
    {
      "cell_type": "code",
      "metadata": {
        "id": "8D9l1hGWTxrM",
        "outputId": "fa726263-6f4b-4e38-9e41-d2ea1d274b81"
      },
      "source": [
        "sequences = make_sequences(test*255)\n",
        "sequences.shape"
      ],
      "execution_count": null,
      "outputs": [
        {
          "output_type": "execute_result",
          "data": {
            "text/plain": [
              "(18, 10, 256, 256, 3)"
            ]
          },
          "metadata": {
            "tags": []
          },
          "execution_count": 216
        }
      ]
    },
    {
      "cell_type": "code",
      "metadata": {
        "id": "HQoZJEy5TxrN"
      },
      "source": [
        "predictions =predict_gt_motionDetect(sequences_pred,sa,number)"
      ],
      "execution_count": null,
      "outputs": []
    },
    {
      "cell_type": "code",
      "metadata": {
        "id": "Ok5a-kcJTxrN",
        "outputId": "46a5b001-d1e1-4dc6-83dc-d1fa7931ab0f"
      },
      "source": [
        "IoU, accuracy = evaluate_accuracy_image_cv(number,predictions)\n",
        "print('IoU is %s' % IoU)\n",
        "print('Accuracy is %s' % accuracy)"
      ],
      "execution_count": null,
      "outputs": [
        {
          "output_type": "stream",
          "text": [
            "IoU is [[1.         1.         1.         1.         1.         1.\n",
            "  1.         1.         1.         1.         1.         1.\n",
            "  1.         1.         1.         1.         1.         1.\n",
            "  1.         1.         1.         1.         1.         1.\n",
            "  1.         1.         1.         1.         1.         1.\n",
            "  1.         1.         1.         1.         1.         1.\n",
            "  1.         1.         1.         1.         1.         1.\n",
            "  1.         1.         1.         1.         1.         1.\n",
            "  1.         1.         1.         1.         1.         1.\n",
            "  1.         1.         1.         1.         1.         1.\n",
            "  1.         1.         1.         1.         1.         1.\n",
            "  1.         1.         1.         1.         1.         1.\n",
            "  1.         1.         1.         1.         1.         1.\n",
            "  1.         1.         1.         1.         1.         1.\n",
            "  1.         1.         1.         1.         1.         1.\n",
            "  1.         1.         1.         1.         0.         0.\n",
            "  0.18438361 0.32445806 0.38078842 0.43331762 0.         0.\n",
            "  0.         0.22880177 0.28071353 0.29924607 0.40435012 0.41034957\n",
            "  0.42117892 0.41529537 0.         0.         0.         0.21532761\n",
            "  0.27511414 0.28981234 0.31386053 0.32214539 0.24289535 0.23240198\n",
            "  0.         0.         0.21846478 0.31072606 0.33119216 0.26731792\n",
            "  0.2102993  0.24754651 0.2366043  0.20363165 0.         0.\n",
            "  0.         0.21447129 0.31593362 0.39695581 0.3177747  0.34272233\n",
            "  0.30348851 0.28885457 0.         0.         0.19853935 0.29076112\n",
            "  0.26832806 0.26920157 0.29587623 0.2927887  0.29162715 0.29661591\n",
            "  0.         0.         0.         0.18118436 0.28207297 0.33658173\n",
            "  0.30785788 0.33971152 0.33278684 0.33910437 0.         0.13972384\n",
            "  0.2843089  0.32141901 0.41222201 0.41771826 0.43078205 0.42531775\n",
            "  0.38874093 0.40501695 0.14324235 0.15514172 0.         0.\n",
            "  0.         0.         0.         0.         0.15716626 0.4167053 ]]\n",
            "Accuracy is 0.8222222222222222\n"
          ],
          "name": "stdout"
        }
      ]
    },
    {
      "cell_type": "code",
      "metadata": {
        "id": "nXGPBiGaTxrO",
        "outputId": "1634da9b-0643-4422-a07c-53bfecd4627b"
      },
      "source": [
        "classic_accuracy(number, predictions)"
      ],
      "execution_count": null,
      "outputs": [
        {
          "output_type": "stream",
          "text": [
            "Confusion Matrix:  [[134262045         0         0 ...         0         0     77877]\n",
            " [      582         0         0 ...         0         0        84]\n",
            " [      792         0         0 ...         0         0        87]\n",
            " ...\n",
            " [      675         0         0 ...         0         0       141]\n",
            " [      507         0         0 ...         0         0       117]\n",
            " [   395628         0         0 ...         0         0    144786]]\n",
            "Accuracy :  99.56061555555556\n"
          ],
          "name": "stdout"
        }
      ]
    },
    {
      "cell_type": "code",
      "metadata": {
        "id": "E0WtJA_HTxrP"
      },
      "source": [
        ""
      ],
      "execution_count": null,
      "outputs": []
    }
  ]
}